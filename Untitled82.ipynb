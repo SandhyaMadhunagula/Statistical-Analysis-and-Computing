{
 "cells": [
  {
   "cell_type": "code",
   "execution_count": 5,
   "id": "93e1c154",
   "metadata": {},
   "outputs": [
    {
     "data": {
      "text/plain": [
       "array([b'12', b'23.6', b'24'], dtype='|S4')"
      ]
     },
     "execution_count": 5,
     "metadata": {},
     "output_type": "execute_result"
    }
   ],
   "source": [
    "import numpy as np\n",
    "a=np.array([\"12\",\"23.6\",\"24\"],dtype=np.string_)\n",
    "a"
   ]
  },
  {
   "cell_type": "code",
   "execution_count": 6,
   "id": "b68655b7",
   "metadata": {},
   "outputs": [
    {
     "data": {
      "text/plain": [
       "array([12. , 23.6, 24. ])"
      ]
     },
     "execution_count": 6,
     "metadata": {},
     "output_type": "execute_result"
    }
   ],
   "source": [
    "a.astype(float)"
   ]
  },
  {
   "cell_type": "code",
   "execution_count": 7,
   "id": "5c3854ff",
   "metadata": {},
   "outputs": [
    {
     "data": {
      "text/plain": [
       "array([0, 1, 2, 3, 4, 5, 6, 7, 8, 9])"
      ]
     },
     "execution_count": 7,
     "metadata": {},
     "output_type": "execute_result"
    }
   ],
   "source": [
    "a=np.arange(10)\n",
    "a"
   ]
  },
  {
   "cell_type": "code",
   "execution_count": 8,
   "id": "2b130999",
   "metadata": {},
   "outputs": [
    {
     "data": {
      "text/plain": [
       "5"
      ]
     },
     "execution_count": 8,
     "metadata": {},
     "output_type": "execute_result"
    }
   ],
   "source": [
    "a[5]\n"
   ]
  },
  {
   "cell_type": "code",
   "execution_count": 9,
   "id": "37d0d7e9",
   "metadata": {},
   "outputs": [
    {
     "data": {
      "text/plain": [
       "array([3, 4, 5, 6])"
      ]
     },
     "execution_count": 9,
     "metadata": {},
     "output_type": "execute_result"
    }
   ],
   "source": [
    "a[3:7]"
   ]
  },
  {
   "cell_type": "code",
   "execution_count": 11,
   "id": "da77495b",
   "metadata": {},
   "outputs": [
    {
     "data": {
      "text/plain": [
       "array([ 0,  1,  2, 18, 18, 18, 18,  7,  8,  9])"
      ]
     },
     "execution_count": 11,
     "metadata": {},
     "output_type": "execute_result"
    }
   ],
   "source": [
    "a[3:7]=18\n",
    "a"
   ]
  },
  {
   "cell_type": "code",
   "execution_count": 16,
   "id": "f055b912",
   "metadata": {},
   "outputs": [
    {
     "data": {
      "text/plain": [
       "array([18,  7,  8,  9])"
      ]
     },
     "execution_count": 16,
     "metadata": {},
     "output_type": "execute_result"
    }
   ],
   "source": [
    "slice_index=a[6:10]\n",
    "slice_index"
   ]
  },
  {
   "cell_type": "code",
   "execution_count": 19,
   "id": "a3db9fbc",
   "metadata": {},
   "outputs": [
    {
     "data": {
      "text/plain": [
       "array([18, 15, 15, 15])"
      ]
     },
     "execution_count": 19,
     "metadata": {},
     "output_type": "execute_result"
    }
   ],
   "source": [
    "slice_index[1:5]=15\n",
    "slice_index"
   ]
  },
  {
   "cell_type": "code",
   "execution_count": 20,
   "id": "752b40b4",
   "metadata": {},
   "outputs": [
    {
     "data": {
      "text/plain": [
       "array([ 0,  1,  2, 18, 18, 18, 18, 15, 15, 15])"
      ]
     },
     "execution_count": 20,
     "metadata": {},
     "output_type": "execute_result"
    }
   ],
   "source": [
    "a"
   ]
  },
  {
   "cell_type": "code",
   "execution_count": 44,
   "id": "1073ace0",
   "metadata": {},
   "outputs": [
    {
     "data": {
      "text/plain": [
       "array([ 0,  1,  2, 18, 18, 18, 18, 15, 15, 15])"
      ]
     },
     "execution_count": 44,
     "metadata": {},
     "output_type": "execute_result"
    }
   ],
   "source": [
    "c=a[:]\n",
    "c"
   ]
  },
  {
   "cell_type": "code",
   "execution_count": 45,
   "id": "c16f96f7",
   "metadata": {},
   "outputs": [
    {
     "data": {
      "text/plain": [
       "array([100, 100, 100, 100, 100, 100, 100, 100, 100, 100])"
      ]
     },
     "execution_count": 45,
     "metadata": {},
     "output_type": "execute_result"
    }
   ],
   "source": [
    "c[:]=100\n",
    "a"
   ]
  },
  {
   "cell_type": "code",
   "execution_count": 23,
   "id": "b05a6f3a",
   "metadata": {},
   "outputs": [
    {
     "data": {
      "text/plain": [
       "array([[1, 2, 3],\n",
       "       [4, 5, 6],\n",
       "       [7, 8, 9]])"
      ]
     },
     "execution_count": 23,
     "metadata": {},
     "output_type": "execute_result"
    }
   ],
   "source": [
    "b=np.array([[1,2,3],[4,5,6],[7,8,9]])\n",
    "b"
   ]
  },
  {
   "cell_type": "code",
   "execution_count": 24,
   "id": "2f5d8e46",
   "metadata": {},
   "outputs": [
    {
     "data": {
      "text/plain": [
       "array([7, 8, 9])"
      ]
     },
     "execution_count": 24,
     "metadata": {},
     "output_type": "execute_result"
    }
   ],
   "source": [
    "b[2]"
   ]
  },
  {
   "cell_type": "code",
   "execution_count": 26,
   "id": "448641dc",
   "metadata": {},
   "outputs": [
    {
     "data": {
      "text/plain": [
       "3"
      ]
     },
     "execution_count": 26,
     "metadata": {},
     "output_type": "execute_result"
    }
   ],
   "source": [
    "b[0][2]"
   ]
  },
  {
   "cell_type": "code",
   "execution_count": 27,
   "id": "32f7dcd0",
   "metadata": {},
   "outputs": [
    {
     "data": {
      "text/plain": [
       "3"
      ]
     },
     "execution_count": 27,
     "metadata": {},
     "output_type": "execute_result"
    }
   ],
   "source": [
    "b[0,2]"
   ]
  },
  {
   "cell_type": "code",
   "execution_count": 28,
   "id": "9a9de1f6",
   "metadata": {},
   "outputs": [
    {
     "data": {
      "text/plain": [
       "array([1, 2, 3])"
      ]
     },
     "execution_count": 28,
     "metadata": {},
     "output_type": "execute_result"
    }
   ],
   "source": [
    "b[0]"
   ]
  },
  {
   "cell_type": "code",
   "execution_count": 30,
   "id": "24d02f07",
   "metadata": {},
   "outputs": [
    {
     "data": {
      "text/plain": [
       "array([7, 8, 9])"
      ]
     },
     "execution_count": 30,
     "metadata": {},
     "output_type": "execute_result"
    }
   ],
   "source": [
    "c=b[2].copy()\n",
    "c"
   ]
  },
  {
   "cell_type": "code",
   "execution_count": 39,
   "id": "e7c579c5",
   "metadata": {},
   "outputs": [
    {
     "data": {
      "text/plain": [
       "array([45, 45,  9])"
      ]
     },
     "execution_count": 39,
     "metadata": {},
     "output_type": "execute_result"
    }
   ],
   "source": [
    "c[0:2]=45\n",
    "c\n"
   ]
  },
  {
   "cell_type": "code",
   "execution_count": 41,
   "id": "e4209baf",
   "metadata": {},
   "outputs": [
    {
     "data": {
      "text/plain": [
       "array([77, 77, 77])"
      ]
     },
     "execution_count": 41,
     "metadata": {},
     "output_type": "execute_result"
    }
   ],
   "source": [
    "c[:]=77\n",
    "c"
   ]
  },
  {
   "cell_type": "code",
   "execution_count": 43,
   "id": "fd91ca13",
   "metadata": {},
   "outputs": [
    {
     "data": {
      "text/plain": [
       "array([[1, 2, 3],\n",
       "       [4, 5, 6],\n",
       "       [7, 8, 9]])"
      ]
     },
     "execution_count": 43,
     "metadata": {},
     "output_type": "execute_result"
    }
   ],
   "source": [
    "b"
   ]
  },
  {
   "cell_type": "code",
   "execution_count": 51,
   "id": "b80097e5",
   "metadata": {},
   "outputs": [
    {
     "data": {
      "text/plain": [
       "array([[0, 1, 2],\n",
       "       [3, 4, 5],\n",
       "       [6, 7, 8]])"
      ]
     },
     "execution_count": 51,
     "metadata": {},
     "output_type": "execute_result"
    }
   ],
   "source": [
    "arr=np.arange(9).reshape(3,3)\n",
    "arr"
   ]
  },
  {
   "cell_type": "code",
   "execution_count": 52,
   "id": "234f17f2",
   "metadata": {},
   "outputs": [
    {
     "data": {
      "text/plain": [
       "array([[0, 1, 2],\n",
       "       [3, 4, 5]])"
      ]
     },
     "execution_count": 52,
     "metadata": {},
     "output_type": "execute_result"
    }
   ],
   "source": [
    "arr[:2]"
   ]
  },
  {
   "cell_type": "code",
   "execution_count": 53,
   "id": "e78125fb",
   "metadata": {},
   "outputs": [
    {
     "data": {
      "text/plain": [
       "array([[0],\n",
       "       [3]])"
      ]
     },
     "execution_count": 53,
     "metadata": {},
     "output_type": "execute_result"
    }
   ],
   "source": [
    "arr[:2,:1]"
   ]
  },
  {
   "cell_type": "code",
   "execution_count": 54,
   "id": "51634f9e",
   "metadata": {},
   "outputs": [
    {
     "data": {
      "text/plain": [
       "array([[0, 1],\n",
       "       [3, 4]])"
      ]
     },
     "execution_count": 54,
     "metadata": {},
     "output_type": "execute_result"
    }
   ],
   "source": [
    "arr[:2,:2]  # column wise slicing"
   ]
  },
  {
   "cell_type": "code",
   "execution_count": 56,
   "id": "595a2bc9",
   "metadata": {},
   "outputs": [
    {
     "data": {
      "text/plain": [
       "array([[1, 2],\n",
       "       [4, 5],\n",
       "       [7, 8]])"
      ]
     },
     "execution_count": 56,
     "metadata": {},
     "output_type": "execute_result"
    }
   ],
   "source": [
    "arr[:3,1:]#row wise slicing"
   ]
  },
  {
   "cell_type": "code",
   "execution_count": 57,
   "id": "35edc230",
   "metadata": {},
   "outputs": [
    {
     "data": {
      "text/plain": [
       "array([[1, 2],\n",
       "       [4, 5],\n",
       "       [7, 8]])"
      ]
     },
     "execution_count": 57,
     "metadata": {},
     "output_type": "execute_result"
    }
   ],
   "source": [
    "arr[:,1:]"
   ]
  },
  {
   "cell_type": "code",
   "execution_count": 58,
   "id": "07515a70",
   "metadata": {},
   "outputs": [
    {
     "data": {
      "text/plain": [
       "array([[1, 3, 5],\n",
       "       [6, 9, 8],\n",
       "       [4, 6, 9]])"
      ]
     },
     "execution_count": 58,
     "metadata": {},
     "output_type": "execute_result"
    }
   ],
   "source": [
    "ar=np.array([[1,3,5],[6,9,8],[4,6,9]])\n",
    "ar"
   ]
  },
  {
   "cell_type": "code",
   "execution_count": 60,
   "id": "128187f6",
   "metadata": {},
   "outputs": [
    {
     "data": {
      "text/plain": [
       "array([[ 35,  73,  67],\n",
       "       [ 73, 181, 150],\n",
       "       [ 67, 150, 133]])"
      ]
     },
     "execution_count": 60,
     "metadata": {},
     "output_type": "execute_result"
    }
   ],
   "source": [
    "np.dot(ar,ar.T)"
   ]
  },
  {
   "cell_type": "code",
   "execution_count": 61,
   "id": "289e8e51",
   "metadata": {},
   "outputs": [
    {
     "data": {
      "text/plain": [
       "array([[ 53,  81,  89],\n",
       "       [ 81, 126, 141],\n",
       "       [ 89, 141, 170]])"
      ]
     },
     "execution_count": 61,
     "metadata": {},
     "output_type": "execute_result"
    }
   ],
   "source": [
    "np.dot(ar.T,ar)"
   ]
  },
  {
   "cell_type": "code",
   "execution_count": 100,
   "id": "68109ec8",
   "metadata": {},
   "outputs": [
    {
     "data": {
      "text/plain": [
       "array(['bob', 'joe', 'will', 'joe', 'joe', 'will', 'bob', 'bob'],\n",
       "      dtype='<U4')"
      ]
     },
     "execution_count": 100,
     "metadata": {},
     "output_type": "execute_result"
    }
   ],
   "source": [
    "names=np.array([\"bob\",\"joe\",\"will\",\"joe\",\"joe\",\"will\",\"bob\",\"bob\"])\n",
    "data=np.array([[2,4],[-8.4,6],[5,76],[7,8],[10,3],[0,1],[12,3],[6,-12]])\n",
    "names"
   ]
  },
  {
   "cell_type": "code",
   "execution_count": null,
   "id": "7db72dd5",
   "metadata": {},
   "outputs": [],
   "source": []
  },
  {
   "cell_type": "code",
   "execution_count": 101,
   "id": "96e57e77",
   "metadata": {},
   "outputs": [
    {
     "data": {
      "text/plain": [
       "array([[  2. ,   4. ],\n",
       "       [ -8.4,   6. ],\n",
       "       [  5. ,  76. ],\n",
       "       [  7. ,   8. ],\n",
       "       [ 10. ,   3. ],\n",
       "       [  0. ,   1. ],\n",
       "       [ 12. ,   3. ],\n",
       "       [  6. , -12. ]])"
      ]
     },
     "execution_count": 101,
     "metadata": {},
     "output_type": "execute_result"
    }
   ],
   "source": [
    "data"
   ]
  },
  {
   "cell_type": "code",
   "execution_count": 103,
   "id": "856ab323",
   "metadata": {},
   "outputs": [
    {
     "data": {
      "text/plain": [
       "array([ True, False, False, False, False, False,  True,  True])"
      ]
     },
     "execution_count": 103,
     "metadata": {},
     "output_type": "execute_result"
    }
   ],
   "source": [
    "names==\"bob\"\n"
   ]
  },
  {
   "cell_type": "code",
   "execution_count": 104,
   "id": "21495b53",
   "metadata": {},
   "outputs": [
    {
     "data": {
      "text/plain": [
       "array([[  2.,   4.],\n",
       "       [ 12.,   3.],\n",
       "       [  6., -12.]])"
      ]
     },
     "execution_count": 104,
     "metadata": {},
     "output_type": "execute_result"
    }
   ],
   "source": [
    "data[names==\"bob\"]"
   ]
  },
  {
   "cell_type": "code",
   "execution_count": 105,
   "id": "2d5e9b99",
   "metadata": {},
   "outputs": [
    {
     "data": {
      "text/plain": [
       "array([[  4.],\n",
       "       [  3.],\n",
       "       [-12.]])"
      ]
     },
     "execution_count": 105,
     "metadata": {},
     "output_type": "execute_result"
    }
   ],
   "source": [
    "data[names==\"bob\",1:]"
   ]
  },
  {
   "cell_type": "code",
   "execution_count": 106,
   "id": "9d9a069d",
   "metadata": {},
   "outputs": [
    {
     "data": {
      "text/plain": [
       "array([  4.,   3., -12.])"
      ]
     },
     "execution_count": 106,
     "metadata": {},
     "output_type": "execute_result"
    }
   ],
   "source": [
    "data[names==\"bob\",1]"
   ]
  },
  {
   "cell_type": "code",
   "execution_count": 107,
   "id": "32f0c86f",
   "metadata": {},
   "outputs": [
    {
     "data": {
      "text/plain": [
       "array([[ 2.],\n",
       "       [12.],\n",
       "       [ 6.]])"
      ]
     },
     "execution_count": 107,
     "metadata": {},
     "output_type": "execute_result"
    }
   ],
   "source": [
    "data[names==\"bob\",:1]"
   ]
  },
  {
   "cell_type": "code",
   "execution_count": 88,
   "id": "e407ee02",
   "metadata": {},
   "outputs": [
    {
     "data": {
      "text/plain": [
       "array([ True,  True, False,  True,  True, False,  True,  True])"
      ]
     },
     "execution_count": 88,
     "metadata": {},
     "output_type": "execute_result"
    }
   ],
   "source": [
    "names!=\"will\""
   ]
  },
  {
   "cell_type": "code",
   "execution_count": 89,
   "id": "6cf4a472",
   "metadata": {},
   "outputs": [
    {
     "data": {
      "text/plain": [
       "array([ True,  True, False,  True,  True, False,  True,  True])"
      ]
     },
     "execution_count": 89,
     "metadata": {},
     "output_type": "execute_result"
    }
   ],
   "source": [
    "~(names==\"will\")"
   ]
  },
  {
   "cell_type": "code",
   "execution_count": 90,
   "id": "46605c46",
   "metadata": {},
   "outputs": [
    {
     "data": {
      "text/plain": [
       "array([False, False,  True, False, False,  True, False, False])"
      ]
     },
     "execution_count": 90,
     "metadata": {},
     "output_type": "execute_result"
    }
   ],
   "source": [
    "names==\"will\""
   ]
  },
  {
   "cell_type": "code",
   "execution_count": 91,
   "id": "22281491",
   "metadata": {},
   "outputs": [
    {
     "data": {
      "text/plain": [
       "array([[  2. ,   4. ],\n",
       "       [ -8.4,   6. ],\n",
       "       [  7. ,   8. ],\n",
       "       [ 10. ,   3. ],\n",
       "       [ 12. ,   3. ],\n",
       "       [  6. , -12. ]])"
      ]
     },
     "execution_count": 91,
     "metadata": {},
     "output_type": "execute_result"
    }
   ],
   "source": [
    "data[~(names==\"will\")]"
   ]
  },
  {
   "cell_type": "code",
   "execution_count": 108,
   "id": "7a823968",
   "metadata": {},
   "outputs": [
    {
     "data": {
      "text/plain": [
       "array([ True, False,  True, False, False,  True,  True,  True])"
      ]
     },
     "execution_count": 108,
     "metadata": {},
     "output_type": "execute_result"
    }
   ],
   "source": [
    "r=(names==\"bob\")|(names==\"will\")\n",
    "r  #names=np.array([\"Bob\",\"joe\",\"will\",\"joe\",\"joe\",\"will\",\"Bob\",\"Bob\"])"
   ]
  },
  {
   "cell_type": "code",
   "execution_count": 114,
   "id": "b299341b",
   "metadata": {},
   "outputs": [
    {
     "data": {
      "text/plain": [
       "array([False, False, False, False, False, False, False, False])"
      ]
     },
     "execution_count": 114,
     "metadata": {},
     "output_type": "execute_result"
    }
   ],
   "source": [
    "an=r=(names==\"bob\")&(names==\"will\")\n",
    "an"
   ]
  },
  {
   "cell_type": "code",
   "execution_count": 116,
   "id": "0dd60f94",
   "metadata": {},
   "outputs": [
    {
     "data": {
      "text/plain": [
       "array([[  2.,   4.],\n",
       "       [ 99.,  99.],\n",
       "       [ 99.,  99.],\n",
       "       [ 99.,  99.],\n",
       "       [ 99.,  99.],\n",
       "       [ 99.,  99.],\n",
       "       [ 12.,   3.],\n",
       "       [  6., -12.]])"
      ]
     },
     "execution_count": 116,
     "metadata": {},
     "output_type": "execute_result"
    }
   ],
   "source": [
    "data[names!=\"bob\"]=99\n",
    "data"
   ]
  },
  {
   "cell_type": "code",
   "execution_count": 117,
   "id": "d56c25c8",
   "metadata": {},
   "outputs": [
    {
     "data": {
      "text/plain": [
       "array([[0., 0., 0., 0.],\n",
       "       [0., 0., 0., 0.],\n",
       "       [0., 0., 0., 0.],\n",
       "       [0., 0., 0., 0.],\n",
       "       [0., 0., 0., 0.],\n",
       "       [0., 0., 0., 0.],\n",
       "       [0., 0., 0., 0.],\n",
       "       [0., 0., 0., 0.]])"
      ]
     },
     "execution_count": 117,
     "metadata": {},
     "output_type": "execute_result"
    }
   ],
   "source": [
    "arr=np.zeros((8,4))\n",
    "arr"
   ]
  },
  {
   "cell_type": "code",
   "execution_count": 122,
   "id": "9a0b1b49",
   "metadata": {},
   "outputs": [
    {
     "data": {
      "text/plain": [
       "array([[0., 0., 0., 0.],\n",
       "       [1., 1., 1., 1.],\n",
       "       [2., 2., 2., 2.],\n",
       "       [3., 3., 3., 3.],\n",
       "       [4., 4., 4., 4.],\n",
       "       [5., 5., 5., 5.],\n",
       "       [6., 6., 6., 6.],\n",
       "       [7., 7., 7., 7.]])"
      ]
     },
     "execution_count": 122,
     "metadata": {},
     "output_type": "execute_result"
    }
   ],
   "source": [
    "for i in range(8):\n",
    "    arr[i]=i\n",
    "    \n",
    "arr"
   ]
  },
  {
   "cell_type": "code",
   "execution_count": 124,
   "id": "ddfb8f7a",
   "metadata": {},
   "outputs": [
    {
     "data": {
      "text/plain": [
       "array([[1., 1., 1., 1.],\n",
       "       [4., 4., 4., 4.],\n",
       "       [6., 6., 6., 6.],\n",
       "       [7., 7., 7., 7.]])"
      ]
     },
     "execution_count": 124,
     "metadata": {},
     "output_type": "execute_result"
    }
   ],
   "source": [
    "arr[[1,4,6,7]]"
   ]
  },
  {
   "cell_type": "code",
   "execution_count": 125,
   "id": "d4a2a795",
   "metadata": {},
   "outputs": [
    {
     "data": {
      "text/plain": [
       "array([[7., 7., 7., 7.],\n",
       "       [4., 4., 4., 4.],\n",
       "       [2., 2., 2., 2.],\n",
       "       [1., 1., 1., 1.]])"
      ]
     },
     "execution_count": 125,
     "metadata": {},
     "output_type": "execute_result"
    }
   ],
   "source": [
    "arr[[-1,-4,-6,-7]]"
   ]
  },
  {
   "cell_type": "code",
   "execution_count": 126,
   "id": "825aaf90",
   "metadata": {},
   "outputs": [
    {
     "data": {
      "text/plain": [
       "array([[ 0,  1,  2,  3],\n",
       "       [ 4,  5,  6,  7],\n",
       "       [ 8,  9, 10, 11],\n",
       "       [12, 13, 14, 15],\n",
       "       [16, 17, 18, 19],\n",
       "       [20, 21, 22, 23],\n",
       "       [24, 25, 26, 27],\n",
       "       [28, 29, 30, 31]])"
      ]
     },
     "execution_count": 126,
     "metadata": {},
     "output_type": "execute_result"
    }
   ],
   "source": [
    "ar=np.arange(32).reshape((8,4))\n",
    "ar"
   ]
  },
  {
   "cell_type": "code",
   "execution_count": 131,
   "id": "1f1a156e",
   "metadata": {},
   "outputs": [
    {
     "data": {
      "text/plain": [
       "array([ 4, 23, 29, 10])"
      ]
     },
     "execution_count": 131,
     "metadata": {},
     "output_type": "execute_result"
    }
   ],
   "source": [
    "ar[[1,5,7,2],[0,3,1,2]]"
   ]
  },
  {
   "cell_type": "code",
   "execution_count": 132,
   "id": "8226a6a5",
   "metadata": {},
   "outputs": [
    {
     "data": {
      "text/plain": [
       "array([22])"
      ]
     },
     "execution_count": 132,
     "metadata": {},
     "output_type": "execute_result"
    }
   ],
   "source": [
    "ar[[5],[2]]"
   ]
  },
  {
   "cell_type": "code",
   "execution_count": 133,
   "id": "b33ace89",
   "metadata": {},
   "outputs": [
    {
     "data": {
      "text/plain": [
       "array([[20, 21, 22, 23],\n",
       "       [ 8,  9, 10, 11]])"
      ]
     },
     "execution_count": 133,
     "metadata": {},
     "output_type": "execute_result"
    }
   ],
   "source": [
    "ar[[5,2]]"
   ]
  },
  {
   "cell_type": "code",
   "execution_count": 136,
   "id": "4f841ca4",
   "metadata": {},
   "outputs": [
    {
     "data": {
      "text/plain": [
       "array([[ 4,  7,  5,  6],\n",
       "       [20, 23, 21, 22],\n",
       "       [28, 31, 29, 30],\n",
       "       [ 8, 11,  9, 10]])"
      ]
     },
     "execution_count": 136,
     "metadata": {},
     "output_type": "execute_result"
    }
   ],
   "source": [
    "ar[[1,5,7,2]][:,[0,3,1,2]]"
   ]
  },
  {
   "cell_type": "code",
   "execution_count": 138,
   "id": "ae12e4d1",
   "metadata": {},
   "outputs": [
    {
     "data": {
      "text/plain": [
       "array([[ 4,  5,  7],\n",
       "       [20, 21, 23],\n",
       "       [28, 29, 31],\n",
       "       [ 8,  9, 11]])"
      ]
     },
     "execution_count": 138,
     "metadata": {},
     "output_type": "execute_result"
    }
   ],
   "source": [
    "ar[[1,5,7,2]][:,[0,1,3]]"
   ]
  },
  {
   "cell_type": "code",
   "execution_count": 143,
   "id": "52c04cee",
   "metadata": {},
   "outputs": [
    {
     "data": {
      "text/plain": [
       "array([[ 4,  5,  7],\n",
       "       [ 8,  9, 11]])"
      ]
     },
     "execution_count": 143,
     "metadata": {},
     "output_type": "execute_result"
    }
   ],
   "source": [
    "ar[[1,2]][:,[0,1,3]]\n"
   ]
  },
  {
   "cell_type": "code",
   "execution_count": 146,
   "id": "8bb48965",
   "metadata": {},
   "outputs": [
    {
     "data": {
      "text/plain": [
       "array([[ 0,  1,  2,  3],\n",
       "       [ 0,  5,  6,  7],\n",
       "       [ 8,  9,  0, 11],\n",
       "       [12, 13, 14, 15],\n",
       "       [16, 17, 18, 19],\n",
       "       [20, 21, 22,  0],\n",
       "       [24, 25, 26, 27],\n",
       "       [28,  0, 30, 31]])"
      ]
     },
     "execution_count": 146,
     "metadata": {},
     "output_type": "execute_result"
    }
   ],
   "source": [
    "ar[[1,5,7,2],[0,3,1,2]]=0\n",
    "ar"
   ]
  },
  {
   "cell_type": "code",
   "execution_count": 148,
   "id": "d9776af8",
   "metadata": {},
   "outputs": [
    {
     "data": {
      "text/plain": [
       "array([[2, 3, 4],\n",
       "       [5, 6, 7],\n",
       "       [1, 2, 4]])"
      ]
     },
     "execution_count": 148,
     "metadata": {},
     "output_type": "execute_result"
    }
   ],
   "source": [
    "\n",
    "ary=np.array([[2,3,4],[5,6,7],[1,2,4]])\n",
    "ary\n"
   ]
  },
  {
   "cell_type": "code",
   "execution_count": 149,
   "id": "418c2dfb",
   "metadata": {},
   "outputs": [
    {
     "data": {
      "text/plain": [
       "array([[2, 5, 1],\n",
       "       [3, 6, 2],\n",
       "       [4, 7, 4]])"
      ]
     },
     "execution_count": 149,
     "metadata": {},
     "output_type": "execute_result"
    }
   ],
   "source": [
    "ary.T"
   ]
  },
  {
   "cell_type": "code",
   "execution_count": 151,
   "id": "a6085d26",
   "metadata": {},
   "outputs": [
    {
     "data": {
      "text/plain": [
       "array([[30, 38, 47],\n",
       "       [38, 49, 62],\n",
       "       [47, 62, 81]])"
      ]
     },
     "execution_count": 151,
     "metadata": {},
     "output_type": "execute_result"
    }
   ],
   "source": [
    "np.dot(ary.T,ary)\n"
   ]
  },
  {
   "cell_type": "code",
   "execution_count": 152,
   "id": "cb1b553b",
   "metadata": {},
   "outputs": [
    {
     "data": {
      "text/plain": [
       "array([[ 29,  56,  24],\n",
       "       [ 56, 110,  45],\n",
       "       [ 24,  45,  21]])"
      ]
     },
     "execution_count": 152,
     "metadata": {},
     "output_type": "execute_result"
    }
   ],
   "source": [
    "np.dot(ary,ary.T)  #returns the scalar or dot product of two arrays"
   ]
  },
  {
   "cell_type": "code",
   "execution_count": 154,
   "id": "d9f6679e",
   "metadata": {},
   "outputs": [
    {
     "data": {
      "text/plain": [
       "array([[ 29,  56,  24],\n",
       "       [ 56, 110,  45],\n",
       "       [ 24,  45,  21]])"
      ]
     },
     "execution_count": 154,
     "metadata": {},
     "output_type": "execute_result"
    }
   ],
   "source": [
    "mul=ary@ary.T\n",
    "mul"
   ]
  },
  {
   "cell_type": "code",
   "execution_count": 155,
   "id": "961245f6",
   "metadata": {},
   "outputs": [
    {
     "data": {
      "text/plain": [
       "array([[30, 38, 47],\n",
       "       [38, 49, 62],\n",
       "       [47, 62, 81]])"
      ]
     },
     "execution_count": 155,
     "metadata": {},
     "output_type": "execute_result"
    }
   ],
   "source": [
    "ml=ary.T@ary\n",
    "ml"
   ]
  },
  {
   "cell_type": "code",
   "execution_count": 156,
   "id": "1e3f6d73",
   "metadata": {},
   "outputs": [
    {
     "data": {
      "text/plain": [
       "array([[ 4, 15,  4],\n",
       "       [15, 36, 14],\n",
       "       [ 4, 14, 16]])"
      ]
     },
     "execution_count": 156,
     "metadata": {},
     "output_type": "execute_result"
    }
   ],
   "source": [
    "np.multiply(ary,ary.T)  #returns the matrix product of two arrays"
   ]
  },
  {
   "cell_type": "code",
   "execution_count": 158,
   "id": "e78a8f08",
   "metadata": {},
   "outputs": [
    {
     "data": {
      "text/plain": [
       "array([[ 29,  56,  24],\n",
       "       [ 56, 110,  45],\n",
       "       [ 24,  45,  21]])"
      ]
     },
     "execution_count": 158,
     "metadata": {},
     "output_type": "execute_result"
    }
   ],
   "source": [
    "np.matmul(ary,ary.T)  # returns the element-wise matrix multiplication of two arrays"
   ]
  },
  {
   "cell_type": "code",
   "execution_count": 159,
   "id": "dcc17720",
   "metadata": {},
   "outputs": [
    {
     "data": {
      "text/plain": [
       "array([[2, 3, 4],\n",
       "       [5, 6, 7],\n",
       "       [1, 2, 4]])"
      ]
     },
     "execution_count": 159,
     "metadata": {},
     "output_type": "execute_result"
    }
   ],
   "source": [
    "\n",
    "ary=np.array([[2,3,4],[5,6,7],[1,2,4]])\n",
    "ary\n"
   ]
  },
  {
   "cell_type": "code",
   "execution_count": 162,
   "id": "3b4025ca",
   "metadata": {},
   "outputs": [
    {
     "data": {
      "text/plain": [
       "array([[2, 5, 1],\n",
       "       [3, 6, 2],\n",
       "       [4, 7, 4]])"
      ]
     },
     "execution_count": 162,
     "metadata": {},
     "output_type": "execute_result"
    }
   ],
   "source": [
    "ary.swapaxes(1,0)"
   ]
  },
  {
   "cell_type": "code",
   "execution_count": 160,
   "id": "7fcfd7ca",
   "metadata": {},
   "outputs": [
    {
     "data": {
      "text/plain": [
       "array([[2, 5, 1],\n",
       "       [3, 6, 2],\n",
       "       [4, 7, 4]])"
      ]
     },
     "execution_count": 160,
     "metadata": {},
     "output_type": "execute_result"
    }
   ],
   "source": [
    "ary.swapaxes(0,1)"
   ]
  },
  {
   "cell_type": "code",
   "execution_count": 165,
   "id": "0ee4407f",
   "metadata": {},
   "outputs": [
    {
     "data": {
      "text/plain": [
       "array([[ 0.05325234,  0.97675254,  0.95170292, -0.82098459],\n",
       "       [ 1.46052718,  0.93461341, -0.02897354, -0.56444914],\n",
       "       [ 0.5085382 ,  0.30228043, -1.21014804,  1.02461529],\n",
       "       [ 0.63795623,  0.43648892, -0.97083084,  1.40401112]])"
      ]
     },
     "execution_count": 165,
     "metadata": {},
     "output_type": "execute_result"
    }
   ],
   "source": [
    "s=np.random.standard_normal(size=(4,4))\n",
    "s"
   ]
  },
  {
   "cell_type": "code",
   "execution_count": 166,
   "id": "f3e4242a",
   "metadata": {},
   "outputs": [
    {
     "ename": "NameError",
     "evalue": "name 'rng' is not defined",
     "output_type": "error",
     "traceback": [
      "\u001b[1;31m---------------------------------------------------------------------------\u001b[0m",
      "\u001b[1;31mNameError\u001b[0m                                 Traceback (most recent call last)",
      "Cell \u001b[1;32mIn[166], line 1\u001b[0m\n\u001b[1;32m----> 1\u001b[0m s\u001b[38;5;241m=\u001b[39mrng\u001b[38;5;241m.\u001b[39mstandard_normal(\u001b[38;5;241m5\u001b[39m)\n\u001b[0;32m      2\u001b[0m s\n",
      "\u001b[1;31mNameError\u001b[0m: name 'rng' is not defined"
     ]
    }
   ],
   "source": [
    "s=rng.standard_normal(5)\n",
    "s"
   ]
  },
  {
   "cell_type": "code",
   "execution_count": null,
   "id": "69404beb",
   "metadata": {},
   "outputs": [],
   "source": []
  }
 ],
 "metadata": {
  "kernelspec": {
   "display_name": "Python 3 (ipykernel)",
   "language": "python",
   "name": "python3"
  },
  "language_info": {
   "codemirror_mode": {
    "name": "ipython",
    "version": 3
   },
   "file_extension": ".py",
   "mimetype": "text/x-python",
   "name": "python",
   "nbconvert_exporter": "python",
   "pygments_lexer": "ipython3",
   "version": "3.11.4"
  }
 },
 "nbformat": 4,
 "nbformat_minor": 5
}
