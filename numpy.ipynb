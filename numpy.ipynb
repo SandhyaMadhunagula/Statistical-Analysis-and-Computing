{
 "cells": [
  {
   "cell_type": "code",
   "execution_count": 152,
   "id": "9f9c8568-413e-4c45-a79d-20a4fbe6465f",
   "metadata": {},
   "outputs": [
    {
     "data": {
      "text/plain": [
       "array([1, 2, 3, 4, 5])"
      ]
     },
     "execution_count": 152,
     "metadata": {},
     "output_type": "execute_result"
    }
   ],
   "source": [
    "import numpy as np\n",
    "k=np.array([1,2,3,4,5])\n",
    "k"
   ]
  },
  {
   "cell_type": "code",
   "execution_count": 2,
   "id": "fc7e5cc5-2f73-4f21-8d6a-48f478330770",
   "metadata": {},
   "outputs": [
    {
     "data": {
      "text/plain": [
       "numpy.ndarray"
      ]
     },
     "execution_count": 2,
     "metadata": {},
     "output_type": "execute_result"
    }
   ],
   "source": [
    "type(k)"
   ]
  },
  {
   "cell_type": "code",
   "execution_count": 134,
   "id": "a2704265-d1a3-4ed6-960e-e9f50b7f5288",
   "metadata": {},
   "outputs": [
    {
     "data": {
      "text/plain": [
       "1"
      ]
     },
     "execution_count": 134,
     "metadata": {},
     "output_type": "execute_result"
    }
   ],
   "source": [
    "k.ndim"
   ]
  },
  {
   "cell_type": "code",
   "execution_count": 149,
   "id": "fcd31253-867b-4a62-ba77-dd0572a58e42",
   "metadata": {},
   "outputs": [
    {
     "data": {
      "text/plain": [
       "dtype('int32')"
      ]
     },
     "execution_count": 149,
     "metadata": {},
     "output_type": "execute_result"
    }
   ],
   "source": [
    "k.dtype"
   ]
  },
  {
   "cell_type": "code",
   "execution_count": 156,
   "id": "91c6fd83-d7ef-4e9d-bb28-83226a78f47f",
   "metadata": {},
   "outputs": [
    {
     "data": {
      "text/plain": [
       "5"
      ]
     },
     "execution_count": 156,
     "metadata": {},
     "output_type": "execute_result"
    }
   ],
   "source": [
    "k.size  # size means length"
   ]
  },
  {
   "cell_type": "code",
   "execution_count": 153,
   "id": "c54ac504-9adc-4ed6-8d68-a05a43a9df31",
   "metadata": {},
   "outputs": [
    {
     "data": {
      "text/plain": [
       "4"
      ]
     },
     "execution_count": 153,
     "metadata": {},
     "output_type": "execute_result"
    }
   ],
   "source": [
    "k.itemsize     # itemsize means size of the each element"
   ]
  },
  {
   "cell_type": "code",
   "execution_count": 7,
   "id": "96d72518-8b17-4a9e-a651-1f9a0262d970",
   "metadata": {},
   "outputs": [
    {
     "data": {
      "text/plain": [
       "3"
      ]
     },
     "execution_count": 7,
     "metadata": {},
     "output_type": "execute_result"
    }
   ],
   "source": [
    "k[2]"
   ]
  },
  {
   "cell_type": "code",
   "execution_count": 8,
   "id": "537c7716-e2ab-4599-9f1d-bc1bf5a99135",
   "metadata": {},
   "outputs": [
    {
     "data": {
      "text/plain": [
       "array([1, 2, 3])"
      ]
     },
     "execution_count": 8,
     "metadata": {},
     "output_type": "execute_result"
    }
   ],
   "source": [
    "k[:3]"
   ]
  },
  {
   "cell_type": "code",
   "execution_count": 10,
   "id": "dba97117-67eb-4319-b6b5-e3248bd30b96",
   "metadata": {},
   "outputs": [
    {
     "data": {
      "text/plain": [
       "array([1, 3])"
      ]
     },
     "execution_count": 10,
     "metadata": {},
     "output_type": "execute_result"
    }
   ],
   "source": [
    "k[:4:2]"
   ]
  },
  {
   "cell_type": "code",
   "execution_count": 11,
   "id": "c24b5898-8450-43e1-8e77-981820ba5589",
   "metadata": {},
   "outputs": [
    {
     "data": {
      "text/plain": [
       "10"
      ]
     },
     "execution_count": 11,
     "metadata": {},
     "output_type": "execute_result"
    }
   ],
   "source": [
    "k.sum()"
   ]
  },
  {
   "cell_type": "code",
   "execution_count": 12,
   "id": "137ac6ea-e696-4f17-992c-4c1871d2106d",
   "metadata": {},
   "outputs": [
    {
     "data": {
      "text/plain": [
       "[5, 6, 7]"
      ]
     },
     "execution_count": 12,
     "metadata": {},
     "output_type": "execute_result"
    }
   ],
   "source": [
    "w=[5,6,7]\n",
    "w\n"
   ]
  },
  {
   "cell_type": "code",
   "execution_count": 56,
   "id": "b1ecef5b-4c94-4742-819f-c4d724a1ade5",
   "metadata": {},
   "outputs": [
    {
     "ename": "TypeError",
     "evalue": "dot() missing 1 required positional argument: 'b'",
     "output_type": "error",
     "traceback": [
      "\u001b[1;31m---------------------------------------------------------------------------\u001b[0m",
      "\u001b[1;31mTypeError\u001b[0m                                 Traceback (most recent call last)",
      "Cell \u001b[1;32mIn[56], line 4\u001b[0m\n\u001b[0;32m      2\u001b[0m k\u001b[38;5;241m=\u001b[39mnp\u001b[38;5;241m.\u001b[39marray([\u001b[38;5;241m1\u001b[39m,\u001b[38;5;241m2\u001b[39m,\u001b[38;5;241m3\u001b[39m,\u001b[38;5;241m4\u001b[39m])\n\u001b[0;32m      3\u001b[0m w\u001b[38;5;241m=\u001b[39mnp\u001b[38;5;241m.\u001b[39marray([\u001b[38;5;241m5\u001b[39m,\u001b[38;5;241m6\u001b[39m,\u001b[38;5;241m7\u001b[39m,\u001b[38;5;241m8\u001b[39m])\n\u001b[1;32m----> 4\u001b[0m np\u001b[38;5;241m.\u001b[39mdot([k,w])\n",
      "\u001b[1;31mTypeError\u001b[0m: dot() missing 1 required positional argument: 'b'"
     ]
    }
   ],
   "source": [
    "import numpy as np\n",
    "k=np.array([1,2,3,4])\n",
    "w=np.array([5,6,7,8])\n",
    "np.dot([k,w])\n"
   ]
  },
  {
   "cell_type": "code",
   "execution_count": 1,
   "id": "6d6ef4de-08fd-4e93-9cc8-1fcc6b9f5966",
   "metadata": {},
   "outputs": [
    {
     "data": {
      "text/plain": [
       "70"
      ]
     },
     "execution_count": 1,
     "metadata": {},
     "output_type": "execute_result"
    }
   ],
   "source": [
    "import numpy as np\n",
    "k=np.array([1,2,3,4])\n",
    "w=np.array([5,6,7,8])\n",
    "np.dot(k,w)\n"
   ]
  },
  {
   "cell_type": "code",
   "execution_count": 2,
   "id": "ada843ee-e4ae-4eab-8a91-c171a4d864b0",
   "metadata": {},
   "outputs": [
    {
     "data": {
      "text/plain": [
       "array([False, False, False, False])"
      ]
     },
     "execution_count": 2,
     "metadata": {},
     "output_type": "execute_result"
    }
   ],
   "source": [
    "import numpy as np\n",
    "k=np.array([1,2,3,4])\n",
    "w=np.array([5,6,7,8])\n",
    "k==w\n"
   ]
  },
  {
   "cell_type": "code",
   "execution_count": 3,
   "id": "54afaa0f-e5d0-44df-b505-6c030fc23bfa",
   "metadata": {},
   "outputs": [
    {
     "data": {
      "text/plain": [
       "array([ True,  True,  True,  True])"
      ]
     },
     "execution_count": 3,
     "metadata": {},
     "output_type": "execute_result"
    }
   ],
   "source": [
    "import numpy as np\n",
    "k=np.array([1,2,3,4])\n",
    "w=np.array([5,6,7,8])\n",
    "k!=w\n"
   ]
  },
  {
   "cell_type": "code",
   "execution_count": 55,
   "id": "8afc059d-36a4-4b09-a98b-ab03777e4879",
   "metadata": {},
   "outputs": [
    {
     "data": {
      "text/plain": [
       "70"
      ]
     },
     "execution_count": 55,
     "metadata": {},
     "output_type": "execute_result"
    }
   ],
   "source": [
    "import numpy as np`\n",
    "\n",
    "k=np.array([1,2,3,4])\n",
    "w=np.array([5,6,7,8])\n",
    "(k*w).sum()"
   ]
  },
  {
   "cell_type": "code",
   "execution_count": 54,
   "id": "16ed6ec0-5623-4e28-a45a-f4e103170ab3",
   "metadata": {},
   "outputs": [
    {
     "ename": "TypeError",
     "evalue": "dot() missing 1 required positional argument: 'b'",
     "output_type": "error",
     "traceback": [
      "\u001b[1;31m---------------------------------------------------------------------------\u001b[0m",
      "\u001b[1;31mTypeError\u001b[0m                                 Traceback (most recent call last)",
      "Cell \u001b[1;32mIn[54], line 4\u001b[0m\n\u001b[0;32m      2\u001b[0m k\u001b[38;5;241m=\u001b[39mnp\u001b[38;5;241m.\u001b[39marray([\u001b[38;5;241m1\u001b[39m,\u001b[38;5;241m2\u001b[39m,\u001b[38;5;241m3\u001b[39m,\u001b[38;5;241m4\u001b[39m])\n\u001b[0;32m      3\u001b[0m w\u001b[38;5;241m=\u001b[39mnp\u001b[38;5;241m.\u001b[39marray([\u001b[38;5;241m5\u001b[39m,\u001b[38;5;241m6\u001b[39m,\u001b[38;5;241m7\u001b[39m,\u001b[38;5;241m8\u001b[39m])\n\u001b[1;32m----> 4\u001b[0m np\u001b[38;5;241m.\u001b[39mdot([k,w])\n",
      "\u001b[1;31mTypeError\u001b[0m: dot() missing 1 required positional argument: 'b'"
     ]
    }
   ],
   "source": [
    "import numpy as np\n",
    "k=np.array([1,2,3,4])\n",
    "w=np.array([5,6,7,8])\n",
    "np.dot([k,w])"
   ]
  },
  {
   "cell_type": "code",
   "execution_count": 4,
   "id": "47e42c2f-7c54-4cde-8c70-a416128d8b1c",
   "metadata": {},
   "outputs": [
    {
     "data": {
      "text/plain": [
       "array([False, False, False, False])"
      ]
     },
     "execution_count": 4,
     "metadata": {},
     "output_type": "execute_result"
    }
   ],
   "source": [
    "import numpy as np\n",
    "k=np.array([1,2,3,4])\n",
    "w=np.array([5,6,7,8])\n",
    "k>=w\n"
   ]
  },
  {
   "cell_type": "code",
   "execution_count": 5,
   "id": "75763be1-91db-40fe-b443-e73b2868e280",
   "metadata": {},
   "outputs": [
    {
     "data": {
      "text/plain": [
       "array([ True,  True,  True,  True])"
      ]
     },
     "execution_count": 5,
     "metadata": {},
     "output_type": "execute_result"
    }
   ],
   "source": [
    "import numpy as np\n",
    "k=np.array([1,2,3,4])\n",
    "w=np.array([5,6,7,8])\n",
    "k<=w\n"
   ]
  },
  {
   "cell_type": "code",
   "execution_count": 6,
   "id": "34dfd41f-0670-4532-aa5f-d63e73e270d5",
   "metadata": {},
   "outputs": [
    {
     "data": {
      "text/plain": [
       "array([False, False, False, False])"
      ]
     },
     "execution_count": 6,
     "metadata": {},
     "output_type": "execute_result"
    }
   ],
   "source": [
    "import numpy as np\n",
    "k=np.array([1,2,3,4])\n",
    "w=np.array([5,6,7,8])\n",
    "k==w.sum()\n"
   ]
  },
  {
   "cell_type": "code",
   "execution_count": 21,
   "id": "9f45133b-4358-44da-9822-11a46df2b09f",
   "metadata": {},
   "outputs": [
    {
     "data": {
      "text/plain": [
       "70"
      ]
     },
     "execution_count": 21,
     "metadata": {},
     "output_type": "execute_result"
    }
   ],
   "source": [
    "(k*w).sum()"
   ]
  },
  {
   "cell_type": "code",
   "execution_count": 22,
   "id": "51f1f491-be38-43ba-8708-8c354dd2a6d4",
   "metadata": {},
   "outputs": [
    {
     "data": {
      "text/plain": [
       "(4,)"
      ]
     },
     "execution_count": 22,
     "metadata": {},
     "output_type": "execute_result"
    }
   ],
   "source": [
    "k.shape"
   ]
  },
  {
   "cell_type": "code",
   "execution_count": 23,
   "id": "b12aba18-9030-4e11-bce3-a6fb3db3f3a6",
   "metadata": {},
   "outputs": [
    {
     "data": {
      "text/plain": [
       "70"
      ]
     },
     "execution_count": 23,
     "metadata": {},
     "output_type": "execute_result"
    }
   ],
   "source": [
    "np.matmul(k,w)"
   ]
  },
  {
   "cell_type": "code",
   "execution_count": 24,
   "id": "2d35762a-772e-4e76-b39d-53d61539a16b",
   "metadata": {},
   "outputs": [
    {
     "data": {
      "text/plain": [
       "70"
      ]
     },
     "execution_count": 24,
     "metadata": {},
     "output_type": "execute_result"
    }
   ],
   "source": [
    "k@w"
   ]
  },
  {
   "cell_type": "code",
   "execution_count": 26,
   "id": "1e95711d-7dcb-4b27-ad14-2be1cc70bcb2",
   "metadata": {},
   "outputs": [
    {
     "data": {
      "text/plain": [
       "70"
      ]
     },
     "execution_count": 26,
     "metadata": {},
     "output_type": "execute_result"
    }
   ],
   "source": [
    "np.matmul(k,w)"
   ]
  },
  {
   "cell_type": "code",
   "execution_count": 30,
   "id": "f121300b-1ad6-47d5-bab0-758c66381601",
   "metadata": {},
   "outputs": [
    {
     "data": {
      "text/plain": [
       "array([ 0,  1,  2,  3,  4,  5,  6,  7,  8,  9, 10, 11, 12, 13, 14, 15, 16,\n",
       "       17, 18, 19])"
      ]
     },
     "execution_count": 30,
     "metadata": {},
     "output_type": "execute_result"
    }
   ],
   "source": [
    "import numpy as np\n",
    "s=np.arange(20)\n",
    "s"
   ]
  },
  {
   "cell_type": "code",
   "execution_count": 32,
   "id": "eefa331f-0669-4d02-94f2-cce60d074b83",
   "metadata": {},
   "outputs": [
    {
     "name": "stdout",
     "output_type": "stream",
     "text": [
      "20\n"
     ]
    }
   ],
   "source": [
    "print(s.size)\n"
   ]
  },
  {
   "cell_type": "code",
   "execution_count": 33,
   "id": "5a06536b-394e-4092-ab51-5309336ebe1e",
   "metadata": {},
   "outputs": [
    {
     "data": {
      "text/plain": [
       "array([1, 2, 3, 4])"
      ]
     },
     "execution_count": 33,
     "metadata": {},
     "output_type": "execute_result"
    }
   ],
   "source": [
    "import numpy as np\n",
    "k=np.array([1,2,3,4])\n",
    "k\n"
   ]
  },
  {
   "cell_type": "code",
   "execution_count": 34,
   "id": "c0bb334b-e671-4614-b44a-0f267f5e747a",
   "metadata": {},
   "outputs": [
    {
     "data": {
      "text/plain": [
       "16"
      ]
     },
     "execution_count": 34,
     "metadata": {},
     "output_type": "execute_result"
    }
   ],
   "source": [
    "k.size*k.itemsize"
   ]
  },
  {
   "cell_type": "code",
   "execution_count": 40,
   "id": "5807b7a0-f99c-405f-ae35-23784d5d73e6",
   "metadata": {},
   "outputs": [
    {
     "data": {
      "text/plain": [
       "range(0, 5)"
      ]
     },
     "execution_count": 40,
     "metadata": {},
     "output_type": "execute_result"
    }
   ],
   "source": [
    "import numpy as np\n",
    "import sys\n",
    "import time\n",
    "d=range(5)\n",
    "d\n"
   ]
  },
  {
   "cell_type": "code",
   "execution_count": 41,
   "id": "fe8ff743-b3e8-4fbc-a7ba-fe31fc72b862",
   "metadata": {},
   "outputs": [
    {
     "data": {
      "text/plain": [
       "[(1, 4), (2, 5), (3, 6)]"
      ]
     },
     "execution_count": 41,
     "metadata": {},
     "output_type": "execute_result"
    }
   ],
   "source": [
    "a=[1,2,3]\n",
    "b=[4,5,6]\n",
    "r=[(x,y) for x,y in zip(a,b)]\n",
    "r"
   ]
  },
  {
   "cell_type": "code",
   "execution_count": 42,
   "id": "d5f6a63d-0ee7-4ee1-a814-52e4f8b72627",
   "metadata": {},
   "outputs": [
    {
     "data": {
      "text/plain": [
       "6"
      ]
     },
     "execution_count": 42,
     "metadata": {},
     "output_type": "execute_result"
    }
   ],
   "source": [
    "n=np.array([1,2,3,4,5,6])\n",
    "n.size"
   ]
  },
  {
   "cell_type": "code",
   "execution_count": 43,
   "id": "d3edc514-0b6b-4098-850d-0227a1967180",
   "metadata": {},
   "outputs": [
    {
     "data": {
      "text/plain": [
       "4"
      ]
     },
     "execution_count": 43,
     "metadata": {},
     "output_type": "execute_result"
    }
   ],
   "source": [
    "n.itemsize"
   ]
  },
  {
   "cell_type": "code",
   "execution_count": 50,
   "id": "38859471-c1ca-4e7f-bc7f-abe70bd1a0eb",
   "metadata": {},
   "outputs": [
    {
     "data": {
      "text/plain": [
       "(6,)"
      ]
     },
     "execution_count": 50,
     "metadata": {},
     "output_type": "execute_result"
    }
   ],
   "source": [
    "n.shape"
   ]
  },
  {
   "cell_type": "code",
   "execution_count": 51,
   "id": "c0e8de98-8b27-46a3-b748-87e160e8e230",
   "metadata": {},
   "outputs": [
    {
     "data": {
      "text/plain": [
       "array([[1, 2, 3],\n",
       "       [4, 5, 6]])"
      ]
     },
     "execution_count": 51,
     "metadata": {},
     "output_type": "execute_result"
    }
   ],
   "source": [
    "n.reshape(2,3)"
   ]
  },
  {
   "cell_type": "code",
   "execution_count": 58,
   "id": "50aff0fb-68f7-4dbe-af9d-8db364343f72",
   "metadata": {},
   "outputs": [
    {
     "data": {
      "text/plain": [
       "array([[1, 2],\n",
       "       [3, 4],\n",
       "       [5, 6]])"
      ]
     },
     "execution_count": 58,
     "metadata": {},
     "output_type": "execute_result"
    }
   ],
   "source": [
    "n.reshape(3,2) #n.reshape([3,2])"
   ]
  },
  {
   "cell_type": "code",
   "execution_count": 59,
   "id": "85c2ac63-a300-4d7a-86fd-33795c9400bd",
   "metadata": {},
   "outputs": [
    {
     "data": {
      "text/plain": [
       "array([2, 3, 4, 5])"
      ]
     },
     "execution_count": 59,
     "metadata": {},
     "output_type": "execute_result"
    }
   ],
   "source": [
    "n=np.array([1,2,3,4,5,6])\n",
    "n[1:5]\n"
   ]
  },
  {
   "cell_type": "code",
   "execution_count": 73,
   "id": "c98560c8-cdbc-4f47-bda6-9b330e2adb38",
   "metadata": {},
   "outputs": [
    {
     "data": {
      "text/plain": [
       "array([[1, 2],\n",
       "       [3, 4],\n",
       "       [5, 6],\n",
       "       [7, 8]])"
      ]
     },
     "execution_count": 73,
     "metadata": {},
     "output_type": "execute_result"
    }
   ],
   "source": [
    "import  numpy as np\n",
    "s=np.array([[1,2,3,4],[5,6,7,8]])\n",
    "s.reshape(4,2)"
   ]
  },
  {
   "cell_type": "code",
   "execution_count": 74,
   "id": "81ca1e3c-9c00-4bbd-9ed0-f04579b53e19",
   "metadata": {},
   "outputs": [
    {
     "data": {
      "text/plain": [
       "array([[1, 2, 3, 4],\n",
       "       [5, 6, 7, 8]])"
      ]
     },
     "execution_count": 74,
     "metadata": {},
     "output_type": "execute_result"
    }
   ],
   "source": [
    "s[0:3]"
   ]
  },
  {
   "cell_type": "code",
   "execution_count": 75,
   "id": "5b77e4bc-63b0-4fb4-bd76-05086ea7f5aa",
   "metadata": {},
   "outputs": [
    {
     "data": {
      "text/plain": [
       "array([[1, 2, 3, 4],\n",
       "       [5, 6, 7, 8]])"
      ]
     },
     "execution_count": 75,
     "metadata": {},
     "output_type": "execute_result"
    }
   ],
   "source": [
    "s[0:2]"
   ]
  },
  {
   "cell_type": "code",
   "execution_count": 76,
   "id": "117f1f6b-284e-468c-a61b-33a2980c0cb6",
   "metadata": {},
   "outputs": [
    {
     "data": {
      "text/plain": [
       "array([4, 8])"
      ]
     },
     "execution_count": 76,
     "metadata": {},
     "output_type": "execute_result"
    }
   ],
   "source": [
    "s[0:,3]"
   ]
  },
  {
   "cell_type": "code",
   "execution_count": 78,
   "id": "cc20bce5-a175-4c31-b48b-32e7066ff5f6",
   "metadata": {},
   "outputs": [
    {
     "data": {
      "text/plain": [
       "array([3, 7])"
      ]
     },
     "execution_count": 78,
     "metadata": {},
     "output_type": "execute_result"
    }
   ],
   "source": [
    "s[0:,2]"
   ]
  },
  {
   "cell_type": "code",
   "execution_count": 86,
   "id": "96be265e-a9c3-4784-a7a9-8ac951a0a08d",
   "metadata": {},
   "outputs": [
    {
     "data": {
      "text/plain": [
       "array([2, 6])"
      ]
     },
     "execution_count": 86,
     "metadata": {},
     "output_type": "execute_result"
    }
   ],
   "source": [
    "s[0:,1]"
   ]
  },
  {
   "cell_type": "code",
   "execution_count": 87,
   "id": "5f229104-b01f-4243-a590-a356acc11c1a",
   "metadata": {},
   "outputs": [
    {
     "data": {
      "text/plain": [
       "array([[ 1,  2,  3,  4],\n",
       "       [ 5,  6,  7,  8],\n",
       "       [10, 11, 12, 13]])"
      ]
     },
     "execution_count": 87,
     "metadata": {},
     "output_type": "execute_result"
    }
   ],
   "source": [
    "import  numpy as np\n",
    "s=np.array([(1,2,3,4),(5,6,7,8), (10,11,12,13)])\n",
    "s"
   ]
  },
  {
   "cell_type": "code",
   "execution_count": 88,
   "id": "d57b0b10-96bf-417d-8e9e-75c7b5cd3c6d",
   "metadata": {},
   "outputs": [
    {
     "data": {
      "text/plain": [
       "array([[ 1,  2,  3,  4],\n",
       "       [ 5,  6,  7,  8],\n",
       "       [10, 11, 12, 13]])"
      ]
     },
     "execution_count": 88,
     "metadata": {},
     "output_type": "execute_result"
    }
   ],
   "source": [
    "import  numpy as np\n",
    "s=np.array([[1,2,3,4],[5,6,7,8], [10,11,12,13]])\n",
    "s"
   ]
  },
  {
   "cell_type": "code",
   "execution_count": 90,
   "id": "4dd541c1-d2e3-47ef-8574-773413db44c1",
   "metadata": {},
   "outputs": [
    {
     "data": {
      "text/plain": [
       "array([[1, 2, 3, 4],\n",
       "       [5, 6, 7, 8]])"
      ]
     },
     "execution_count": 90,
     "metadata": {},
     "output_type": "execute_result"
    }
   ],
   "source": [
    "s[0:2]\n"
   ]
  },
  {
   "cell_type": "code",
   "execution_count": 91,
   "id": "8c7eed26-5b91-48a3-b82f-0ebfc27c11f6",
   "metadata": {},
   "outputs": [
    {
     "data": {
      "text/plain": [
       "array([[1, 2, 3, 4]])"
      ]
     },
     "execution_count": 91,
     "metadata": {},
     "output_type": "execute_result"
    }
   ],
   "source": [
    "s[0:1]"
   ]
  },
  {
   "cell_type": "code",
   "execution_count": 92,
   "id": "b0410ec2-3ca7-4957-aa24-dbc9dc2df7ba",
   "metadata": {},
   "outputs": [
    {
     "data": {
      "text/plain": [
       "array([3])"
      ]
     },
     "execution_count": 92,
     "metadata": {},
     "output_type": "execute_result"
    }
   ],
   "source": [
    "s[0:1,2] #here 1 is repersents howmany rows to print. 2 represents skip\n"
   ]
  },
  {
   "cell_type": "code",
   "execution_count": 95,
   "id": "cf034977-f6b0-462c-b972-f7f7ddd61d1f",
   "metadata": {},
   "outputs": [
    {
     "data": {
      "text/plain": [
       "array([4, 8])"
      ]
     },
     "execution_count": 95,
     "metadata": {},
     "output_type": "execute_result"
    }
   ],
   "source": [
    "s[0:2,3]\n"
   ]
  },
  {
   "cell_type": "code",
   "execution_count": 96,
   "id": "e231c416-0127-4f4d-aa30-054912da71dc",
   "metadata": {},
   "outputs": [
    {
     "data": {
      "text/plain": [
       "array([8])"
      ]
     },
     "execution_count": 96,
     "metadata": {},
     "output_type": "execute_result"
    }
   ],
   "source": [
    "s[1:2,3]"
   ]
  },
  {
   "cell_type": "code",
   "execution_count": 98,
   "id": "40682afa-3466-460f-a85c-cbd01cc6b091",
   "metadata": {},
   "outputs": [
    {
     "data": {
      "text/plain": [
       "array([ 4,  8, 13])"
      ]
     },
     "execution_count": 98,
     "metadata": {},
     "output_type": "execute_result"
    }
   ],
   "source": [
    "s[0:3,3]"
   ]
  },
  {
   "cell_type": "code",
   "execution_count": 100,
   "id": "7f0cc0aa-1f9c-4af5-9ece-4fd1a7b41a3a",
   "metadata": {},
   "outputs": [
    {
     "data": {
      "text/plain": [
       "array([4, 8])"
      ]
     },
     "execution_count": 100,
     "metadata": {},
     "output_type": "execute_result"
    }
   ],
   "source": [
    "s[0:2,3]"
   ]
  },
  {
   "cell_type": "code",
   "execution_count": 101,
   "id": "263214a9-3014-4643-a3fb-e4b5a5f1b217",
   "metadata": {},
   "outputs": [
    {
     "data": {
      "text/plain": [
       "array([ 8, 13])"
      ]
     },
     "execution_count": 101,
     "metadata": {},
     "output_type": "execute_result"
    }
   ],
   "source": [
    "s[1:3,3]"
   ]
  },
  {
   "cell_type": "code",
   "execution_count": 107,
   "id": "3c1cc20a-3d62-4251-b3c0-6f47b8582a55",
   "metadata": {},
   "outputs": [
    {
     "name": "stdout",
     "output_type": "stream",
     "text": [
      "[1.         1.14285714 1.28571429 1.42857143 1.57142857 1.71428571\n",
      " 1.85714286 2.         2.14285714 2.28571429 2.42857143 2.57142857\n",
      " 2.71428571 2.85714286 3.        ]\n"
     ]
    }
   ],
   "source": [
    "import numpy as np\n",
    "a=np.linspace(1,3,15)   #15 elements range 3 \n",
    "print(a)"
   ]
  },
  {
   "cell_type": "code",
   "execution_count": 108,
   "id": "703f18ca-f856-45b3-8d2d-0f8a905c9d80",
   "metadata": {},
   "outputs": [
    {
     "data": {
      "text/plain": [
       "array([1. , 1.5, 2. ])"
      ]
     },
     "execution_count": 108,
     "metadata": {},
     "output_type": "execute_result"
    }
   ],
   "source": [
    "import numpy as np\n",
    "a=np.linspace(1,2,3)   #15 elements range 3 \n",
    "a"
   ]
  },
  {
   "cell_type": "code",
   "execution_count": 112,
   "id": "4d48a621-2f26-4597-a9d5-f7b53dc7cd81",
   "metadata": {},
   "outputs": [
    {
     "data": {
      "text/plain": [
       "1"
      ]
     },
     "execution_count": 112,
     "metadata": {},
     "output_type": "execute_result"
    }
   ],
   "source": [
    "import numpy as np\n",
    "a=np.array((1,2,3))\n",
    "a.sum()"
   ]
  },
  {
   "cell_type": "code",
   "execution_count": 113,
   "id": "d288bfa6-85ff-482a-b03b-42366d7508f5",
   "metadata": {},
   "outputs": [
    {
     "data": {
      "text/plain": [
       "1"
      ]
     },
     "execution_count": 113,
     "metadata": {},
     "output_type": "execute_result"
    }
   ],
   "source": [
    "a.min()\n"
   ]
  },
  {
   "cell_type": "code",
   "execution_count": 114,
   "id": "c8ea8942-5461-4f05-b44e-f196a020987a",
   "metadata": {},
   "outputs": [
    {
     "data": {
      "text/plain": [
       "3"
      ]
     },
     "execution_count": 114,
     "metadata": {},
     "output_type": "execute_result"
    }
   ],
   "source": [
    "a.max()\n"
   ]
  },
  {
   "cell_type": "code",
   "execution_count": 116,
   "id": "b7073dc3-4e1c-4ca4-a50c-4545b1883508",
   "metadata": {},
   "outputs": [
    {
     "data": {
      "text/plain": [
       "array([[1, 2, 3],\n",
       "       [4, 5, 6]])"
      ]
     },
     "execution_count": 116,
     "metadata": {},
     "output_type": "execute_result"
    }
   ],
   "source": [
    "a=np.array([(1,2,3),(4,5,6)])\n",
    "a"
   ]
  },
  {
   "cell_type": "code",
   "execution_count": 119,
   "id": "5cff685a-b3d2-4c34-a96f-b13525ef00a4",
   "metadata": {},
   "outputs": [
    {
     "data": {
      "text/plain": [
       "array([5, 7, 9])"
      ]
     },
     "execution_count": 119,
     "metadata": {},
     "output_type": "execute_result"
    }
   ],
   "source": [
    "a.sum(axis=0) "
   ]
  },
  {
   "cell_type": "code",
   "execution_count": 120,
   "id": "3574072a-7fb8-40d8-801a-1b9ecd9edf88",
   "metadata": {},
   "outputs": [
    {
     "data": {
      "text/plain": [
       "array([ 6, 15])"
      ]
     },
     "execution_count": 120,
     "metadata": {},
     "output_type": "execute_result"
    }
   ],
   "source": [
    "a.sum(axis=1)  # sum of the  each row\n"
   ]
  },
  {
   "cell_type": "code",
   "execution_count": 122,
   "id": "14ec5990-94c6-4c9b-9b89-548dcb83cbe5",
   "metadata": {},
   "outputs": [
    {
     "data": {
      "text/plain": [
       "array([[1.        , 1.41421356, 1.73205081],\n",
       "       [2.        , 2.23606798, 2.44948974]])"
      ]
     },
     "execution_count": 122,
     "metadata": {},
     "output_type": "execute_result"
    }
   ],
   "source": [
    "np.sqrt(a)\n"
   ]
  },
  {
   "cell_type": "code",
   "execution_count": 123,
   "id": "fe6eed63-1bb6-4684-ab04-f5b3e9fd5b4c",
   "metadata": {},
   "outputs": [
    {
     "data": {
      "text/plain": [
       "1.707825127659933"
      ]
     },
     "execution_count": 123,
     "metadata": {},
     "output_type": "execute_result"
    }
   ],
   "source": [
    "np.std(a)"
   ]
  },
  {
   "cell_type": "code",
   "execution_count": 125,
   "id": "34b175ce-65fc-4cec-9403-e1e78e8ff190",
   "metadata": {},
   "outputs": [
    {
     "data": {
      "text/plain": [
       "array([[1, 2, 3, 4],\n",
       "       [5, 6, 7, 8]])"
      ]
     },
     "execution_count": 125,
     "metadata": {},
     "output_type": "execute_result"
    }
   ],
   "source": [
    "import numpy as np\n",
    "a=np.array([1,2,3,4])\n",
    "b=np.array([5,6,7,8])\n",
    "np.vstack((a,b))"
   ]
  },
  {
   "cell_type": "code",
   "execution_count": 126,
   "id": "41922ff2-e078-4d2c-b112-9d864536f32d",
   "metadata": {},
   "outputs": [
    {
     "data": {
      "text/plain": [
       "array([1, 2, 3, 4, 5, 6, 7, 8])"
      ]
     },
     "execution_count": 126,
     "metadata": {},
     "output_type": "execute_result"
    }
   ],
   "source": [
    "np.hstack((a,b))"
   ]
  },
  {
   "cell_type": "code",
   "execution_count": 127,
   "id": "0bb1561e-670a-4fa7-a19f-4fa0935b9e06",
   "metadata": {},
   "outputs": [
    {
     "data": {
      "text/plain": [
       "array([1, 2, 3, 4, 4, 6, 7, 8])"
      ]
     },
     "execution_count": 127,
     "metadata": {},
     "output_type": "execute_result"
    }
   ],
   "source": [
    "import numpy as np\n",
    "a=np.array([1,2,3,4])\n",
    "b=np.array([4,6,7,8])\n",
    "np.hstack((a,b))"
   ]
  },
  {
   "cell_type": "code",
   "execution_count": 128,
   "id": "fdc11613-a177-41e1-85c4-e77d25bf9c9b",
   "metadata": {},
   "outputs": [
    {
     "data": {
      "text/plain": [
       "array([1, 2, 3, 4])"
      ]
     },
     "execution_count": 128,
     "metadata": {},
     "output_type": "execute_result"
    }
   ],
   "source": [
    "a.ravel()\n"
   ]
  },
  {
   "cell_type": "code",
   "execution_count": 133,
   "id": "70b953f5-d218-4110-9c28-cbce36eb2caa",
   "metadata": {},
   "outputs": [
    {
     "data": {
      "text/plain": [
       "array([1, 2, 3, 4, 6, 3, 8, 9])"
      ]
     },
     "execution_count": 133,
     "metadata": {},
     "output_type": "execute_result"
    }
   ],
   "source": [
    "a=np.array([[1,2,3,4],[6,3,8,9]])\n",
    "a.ravel()"
   ]
  },
  {
   "cell_type": "code",
   "execution_count": 135,
   "id": "335b80c0-4186-4103-b130-bd0ef36c97a1",
   "metadata": {},
   "outputs": [
    {
     "data": {
      "text/plain": [
       "8"
      ]
     },
     "execution_count": 135,
     "metadata": {},
     "output_type": "execute_result"
    }
   ],
   "source": [
    "a.size\n"
   ]
  },
  {
   "cell_type": "code",
   "execution_count": 138,
   "id": "7951874f-b0c1-4d38-99c6-b68e645464d0",
   "metadata": {},
   "outputs": [
    {
     "data": {
      "text/plain": [
       "4"
      ]
     },
     "execution_count": 138,
     "metadata": {},
     "output_type": "execute_result"
    }
   ],
   "source": [
    "a.itemsize\n"
   ]
  },
  {
   "cell_type": "code",
   "execution_count": 139,
   "id": "ab600356-34d7-4d96-9a4f-4ea676f552f9",
   "metadata": {},
   "outputs": [
    {
     "data": {
      "text/plain": [
       "36"
      ]
     },
     "execution_count": 139,
     "metadata": {},
     "output_type": "execute_result"
    }
   ],
   "source": [
    "a.sum()"
   ]
  },
  {
   "cell_type": "code",
   "execution_count": 143,
   "id": "b311972f-4a3a-46c7-926b-e620941ef1d9",
   "metadata": {},
   "outputs": [],
   "source": [
    "import numpy as np\n",
    "import matplotlib.pyplot as plt\n",
    "x=np.arange(0,3*np.pi,0.1)\n",
    "y=np.sin(x)"
   ]
  },
  {
   "cell_type": "code",
   "execution_count": 145,
   "id": "fbdf0ad4-990e-4a48-8c7f-974974a9f7ea",
   "metadata": {},
   "outputs": [
    {
     "data": {
      "text/plain": [
       "array([ 2.71828183,  7.3890561 , 20.08553692])"
      ]
     },
     "execution_count": 145,
     "metadata": {},
     "output_type": "execute_result"
    }
   ],
   "source": [
    "a=np.array((1,2,3))\n",
    "np.exp(a)\n"
   ]
  },
  {
   "cell_type": "code",
   "execution_count": 146,
   "id": "f4b4c8d3-fa09-4562-bc21-7a16e01298ca",
   "metadata": {},
   "outputs": [
    {
     "data": {
      "text/plain": [
       "array([0.        , 0.69314718, 1.09861229])"
      ]
     },
     "execution_count": 146,
     "metadata": {},
     "output_type": "execute_result"
    }
   ],
   "source": [
    "np.log(a)  # base e\n"
   ]
  },
  {
   "cell_type": "code",
   "execution_count": 147,
   "id": "524b9bfb-762a-497c-a16f-4ed19f61e95b",
   "metadata": {},
   "outputs": [
    {
     "data": {
      "text/plain": [
       "array([0.        , 0.30103   , 0.47712125])"
      ]
     },
     "execution_count": 147,
     "metadata": {},
     "output_type": "execute_result"
    }
   ],
   "source": [
    "np.log10(a)   # base 10"
   ]
  },
  {
   "cell_type": "code",
   "execution_count": 154,
   "id": "b09f4ece-1a9c-404e-b9e0-3adf1bcbf87c",
   "metadata": {},
   "outputs": [
    {
     "data": {
      "text/plain": [
       "3"
      ]
     },
     "execution_count": 154,
     "metadata": {},
     "output_type": "execute_result"
    }
   ],
   "source": [
    "a.size"
   ]
  },
  {
   "cell_type": "code",
   "execution_count": 155,
   "id": "10126575-f7cc-47b8-8e7a-2a12adf50cfa",
   "metadata": {},
   "outputs": [
    {
     "data": {
      "text/plain": [
       "4"
      ]
     },
     "execution_count": 155,
     "metadata": {},
     "output_type": "execute_result"
    }
   ],
   "source": [
    "a.itemsize"
   ]
  },
  {
   "cell_type": "code",
   "execution_count": 1,
   "id": "085d3594-a545-4c01-a31d-e9d4a17970ca",
   "metadata": {},
   "outputs": [
    {
     "ename": "NameError",
     "evalue": "name 'a' is not defined",
     "output_type": "error",
     "traceback": [
      "\u001b[1;31m---------------------------------------------------------------------------\u001b[0m",
      "\u001b[1;31mNameError\u001b[0m                                 Traceback (most recent call last)",
      "Cell \u001b[1;32mIn[1], line 1\u001b[0m\n\u001b[1;32m----> 1\u001b[0m a\u001b[38;5;241m==\u001b[39mnp\u001b[38;5;241m.\u001b[39marray([[\u001b[38;5;241m1\u001b[39m,\u001b[38;5;241m2\u001b[39m,\u001b[38;5;241m3\u001b[39m,\u001b[38;5;241m4\u001b[39m],[\u001b[38;5;241m6\u001b[39m,\u001b[38;5;241m3\u001b[39m,\u001b[38;5;241m8\u001b[39m,\u001b[38;5;241m9\u001b[39m]])\n\u001b[0;32m      2\u001b[0m np\u001b[38;5;241m.\u001b[39mround(a)\n",
      "\u001b[1;31mNameError\u001b[0m: name 'a' is not defined"
     ]
    }
   ],
   "source": [
    "a==np.array([[1,2,3,4],[6,3,8,9]])\n",
    "np.round(a)"
   ]
  },
  {
   "cell_type": "code",
   "execution_count": 9,
   "id": "646bd7c6-4cfa-478c-8c73-911d27da4210",
   "metadata": {},
   "outputs": [
    {
     "data": {
      "text/plain": [
       "array([0.72571579, 0.25109357, 0.47156817, 0.07966408, 0.81438886])"
      ]
     },
     "execution_count": 9,
     "metadata": {},
     "output_type": "execute_result"
    }
   ],
   "source": [
    "# Random vector\n",
    "import numpy as np\n",
    "np.random.rand(5)"
   ]
  },
  {
   "cell_type": "code",
   "execution_count": 8,
   "id": "3ab235b6-ff06-42cc-8b53-750bc0a7a210",
   "metadata": {},
   "outputs": [
    {
     "data": {
      "text/plain": [
       "array([[ 0.46455712, -0.21264284,  1.91003421],\n",
       "       [-0.62821488, -0.077066  , -0.39606434]])"
      ]
     },
     "execution_count": 8,
     "metadata": {},
     "output_type": "execute_result"
    }
   ],
   "source": [
    "# Random matrix\n",
    "np.random.randn(2, 3) # rand vs. randn - what's the difference?"
   ]
  },
  {
   "cell_type": "code",
   "execution_count": 5,
   "id": "0a2c73c5-7dce-4638-8c88-350f5623d7ef",
   "metadata": {},
   "outputs": [
    {
     "data": {
      "text/plain": [
       "array([0.87113781, 0.52049224])"
      ]
     },
     "execution_count": 5,
     "metadata": {},
     "output_type": "execute_result"
    }
   ],
   "source": [
    "# Random matrix\n",
    "np.random.randn(2) # rand vs. randn - what's the difference?"
   ]
  },
  {
   "cell_type": "code",
   "execution_count": 2,
   "id": "8dbb02b8-6318-40c0-b590-bb3fb651f8f5",
   "metadata": {},
   "outputs": [
    {
     "data": {
      "text/plain": [
       "array([[1, 1],\n",
       "       [1, 1]])"
      ]
     },
     "execution_count": 2,
     "metadata": {},
     "output_type": "execute_result"
    }
   ],
   "source": [
    "import numpy as np\n",
    "a=np.ones((2,2),dtype=int)\n",
    "a\n"
   ]
  },
  {
   "cell_type": "code",
   "execution_count": 3,
   "id": "0a8027b9-8e29-438f-8fe1-d96c96af76be",
   "metadata": {},
   "outputs": [
    {
     "data": {
      "text/plain": [
       "array([[0., 0.],\n",
       "       [0., 0.],\n",
       "       [0., 0.]])"
      ]
     },
     "execution_count": 3,
     "metadata": {},
     "output_type": "execute_result"
    }
   ],
   "source": [
    "import numpy as np\n",
    "a=np.zeros((3,2))\n",
    "a\n"
   ]
  },
  {
   "cell_type": "markdown",
   "id": "2c40725b-bd6a-4e11-ab41-6db08a09b66b",
   "metadata": {},
   "source": [
    " import numpy as np\n",
    "a=np.full((2,2),3,dtype=int)\n",
    "a\n"
   ]
  },
  {
   "cell_type": "code",
   "execution_count": 5,
   "id": "9530ad13-2df1-4142-ae75-1e165da8628c",
   "metadata": {},
   "outputs": [
    {
     "data": {
      "text/plain": [
       "array([[3, 3],\n",
       "       [3, 3]])"
      ]
     },
     "execution_count": 5,
     "metadata": {},
     "output_type": "execute_result"
    }
   ],
   "source": [
    "import numpy as np\n",
    "a=np.full((2,2),3,dtype=int)\n",
    "a\n"
   ]
  },
  {
   "cell_type": "code",
   "execution_count": 14,
   "id": "aa140f69-91b5-4e64-83c7-d9b00f35d949",
   "metadata": {},
   "outputs": [
    {
     "data": {
      "text/plain": [
       "array([ 5,  1,  7, 45,  3])"
      ]
     },
     "execution_count": 14,
     "metadata": {},
     "output_type": "execute_result"
    }
   ],
   "source": [
    "import numpy as np\n",
    "a=np.array([3,45,7,1,5])\n",
    "#b=np.flip(a)# to reverse an array\n",
    "#B\n",
    "v=a[::-1]\n",
    "v"
   ]
  },
  {
   "cell_type": "code",
   "execution_count": 20,
   "id": "9d25f4e4-57d5-45de-b692-615f73b5dc6c",
   "metadata": {},
   "outputs": [
    {
     "data": {
      "text/plain": [
       "array([3, 3, 3, 3, 3])"
      ]
     },
     "execution_count": 20,
     "metadata": {},
     "output_type": "execute_result"
    }
   ],
   "source": [
    "import numpy as np\n",
    "a=np.repeat([3],5,axis=0)\n",
    "a\n"
   ]
  },
  {
   "cell_type": "code",
   "execution_count": 21,
   "id": "be7c43e3-2716-49e5-a955-e6cfb7ff38b8",
   "metadata": {},
   "outputs": [
    {
     "data": {
      "text/plain": [
       "array([[4, 4, 4, 4, 4, 3, 3, 3, 3, 3]])"
      ]
     },
     "execution_count": 21,
     "metadata": {},
     "output_type": "execute_result"
    }
   ],
   "source": [
    "a=np.repeat([[4,3]],5,axis=1)\n",
    "a"
   ]
  },
  {
   "cell_type": "code",
   "execution_count": 22,
   "id": "82f50242-af41-4c02-b98b-bf38377c1470",
   "metadata": {},
   "outputs": [
    {
     "data": {
      "text/plain": [
       "array([[4, 3],\n",
       "       [4, 3],\n",
       "       [4, 3],\n",
       "       [4, 3],\n",
       "       [4, 3]])"
      ]
     },
     "execution_count": 22,
     "metadata": {},
     "output_type": "execute_result"
    }
   ],
   "source": [
    "a=np.repeat([[4,3]],5,axis=0)\n",
    "a"
   ]
  },
  {
   "cell_type": "code",
   "execution_count": 27,
   "id": "abe25bc2-59fc-4550-a4c2-050cde8fe13c",
   "metadata": {},
   "outputs": [
    {
     "data": {
      "text/plain": [
       "array([ 1,  3,  5,  7,  9,  0,  2, 12,  5,  6,  8])"
      ]
     },
     "execution_count": 27,
     "metadata": {},
     "output_type": "execute_result"
    }
   ],
   "source": [
    "import  numpy as np\n",
    "a=np.array([1,3,5,7,9,0])\n",
    "b=np.array([2,12,5,6,8])\n",
    "c=np.concatenate([a,b]) #c=np.concatenate([a,b],axis=0)\n",
    "c\n",
    "#d=np.hstack([a,b])\n",
    "#e=np.vstack([a,b])"
   ]
  },
  {
   "cell_type": "code",
   "execution_count": 32,
   "id": "d8846085-87a7-456a-852e-6af0400a95d5",
   "metadata": {},
   "outputs": [
    {
     "data": {
      "text/plain": [
       "array([ 1,  3,  5,  7,  9,  0,  2, 12,  5,  6,  8])"
      ]
     },
     "execution_count": 32,
     "metadata": {},
     "output_type": "execute_result"
    }
   ],
   "source": [
    "import  numpy as np\n",
    "a=np.array([1,3,5,7,9,0])\n",
    "b=np.array([2,12,5,6,8])\n",
    "r=np.r_[a,b]   #r _statement\n",
    "r"
   ]
  },
  {
   "cell_type": "code",
   "execution_count": 34,
   "id": "57a3b1b3-3a1b-414d-a5a9-008ec6252f61",
   "metadata": {},
   "outputs": [
    {
     "data": {
      "text/plain": [
       "array([ 1,  4,  9, 16, 25])"
      ]
     },
     "execution_count": 34,
     "metadata": {},
     "output_type": "execute_result"
    }
   ],
   "source": [
    "import numpy as np\n",
    "a=np.array([1,2,3,4,5]) #power function\n",
    "b=np.power(a,[2])\n",
    "b"
   ]
  },
  {
   "cell_type": "code",
   "execution_count": 35,
   "id": "56e7d195-bc5f-47e1-adca-2353ea2b264a",
   "metadata": {},
   "outputs": [
    {
     "data": {
      "text/plain": [
       "array([ 1,  8, 81, 16, 25])"
      ]
     },
     "execution_count": 35,
     "metadata": {},
     "output_type": "execute_result"
    }
   ],
   "source": [
    "c=np.power(a,[1,3,4,2,2])  #providing difefrent powers to all the elements in ana rray\n",
    "c"
   ]
  },
  {
   "cell_type": "code",
   "execution_count": 40,
   "id": "5224c4f4-361e-4c8f-b400-ba90d6ae4cc3",
   "metadata": {},
   "outputs": [
    {
     "data": {
      "text/plain": [
       "array([ 4,  3, -1])"
      ]
     },
     "execution_count": 40,
     "metadata": {},
     "output_type": "execute_result"
    }
   ],
   "source": [
    "import numpy as np\n",
    "a=np.array([1,5,8,7])\n",
    "b=np.array([2,7,3,5])\n",
    "d=np.diff(a)\n",
    "d\n"
   ]
  },
  {
   "cell_type": "code",
   "execution_count": 41,
   "id": "b5e3dcf1-95c8-4aea-9b50-bcd3105eda67",
   "metadata": {},
   "outputs": [
    {
     "data": {
      "text/plain": [
       "array([ 5, -4,  2])"
      ]
     },
     "execution_count": 41,
     "metadata": {},
     "output_type": "execute_result"
    }
   ],
   "source": [
    "d1=np.diff(b)\n",
    "d1"
   ]
  },
  {
   "cell_type": "code",
   "execution_count": 42,
   "id": "e041b221-c6a9-4dcf-b156-f35daa3e83c5",
   "metadata": {},
   "outputs": [
    {
     "data": {
      "text/plain": [
       "array([[ 4,  3, -1],\n",
       "       [ 5, -4,  2]])"
      ]
     },
     "execution_count": 42,
     "metadata": {},
     "output_type": "execute_result"
    }
   ],
   "source": [
    "df=np.diff([a,b])\n",
    "df"
   ]
  },
  {
   "cell_type": "code",
   "execution_count": 43,
   "id": "0d284c14-d3b7-4af3-a81c-bdb8167439d0",
   "metadata": {},
   "outputs": [
    {
     "data": {
      "text/plain": [
       "array([[ 1,  2, -5, -2]])"
      ]
     },
     "execution_count": 43,
     "metadata": {},
     "output_type": "execute_result"
    }
   ],
   "source": [
    "e=np.diff([a,b],axis=0)\n",
    "e"
   ]
  },
  {
   "cell_type": "code",
   "execution_count": 44,
   "id": "c46182aa-ea57-4325-8cc4-a7f81f64b00a",
   "metadata": {},
   "outputs": [
    {
     "data": {
      "text/plain": [
       "array([[ 4,  3, -1],\n",
       "       [ 5, -4,  2]])"
      ]
     },
     "execution_count": 44,
     "metadata": {},
     "output_type": "execute_result"
    }
   ],
   "source": [
    "e=np.diff([a,b],axis=1)\n",
    "e"
   ]
  },
  {
   "cell_type": "code",
   "execution_count": 52,
   "id": "cf104c77-9e6d-4e43-aaf2-767a6d91b23b",
   "metadata": {},
   "outputs": [
    {
     "data": {
      "text/plain": [
       "array(-2)"
      ]
     },
     "execution_count": 52,
     "metadata": {},
     "output_type": "execute_result"
    }
   ],
   "source": [
    "import numpy as np\n",
    "a=np.array([1,2])\n",
    "b=np.array([3,4])  #cross product of two arrays of vectorsum\n",
    "#cross means 1*4-3*2\n",
    "c=np.cross(a,b)\n",
    "c"
   ]
  },
  {
   "cell_type": "code",
   "execution_count": 60,
   "id": "9870393d-01fe-45ba-8b64-a92dbfca88bb",
   "metadata": {},
   "outputs": [
    {
     "data": {
      "text/plain": [
       "array([2, 4, 5, 9])"
      ]
     },
     "execution_count": 60,
     "metadata": {},
     "output_type": "execute_result"
    }
   ],
   "source": [
    "import numpy as np\n",
    "a=np.array([4,9,2,5])\n",
    "c=np.sort(a)\n",
    "c"
   ]
  },
  {
   "cell_type": "code",
   "execution_count": 58,
   "id": "a4cd06ae-8466-47d0-bfbf-b9f99b50fa6f",
   "metadata": {},
   "outputs": [
    {
     "data": {
      "text/plain": [
       "array([[ 4,  7,  2,  5],\n",
       "       [ 5,  9, 12,  8]])"
      ]
     },
     "execution_count": 58,
     "metadata": {},
     "output_type": "execute_result"
    }
   ],
   "source": [
    "import numpy as np\n",
    "a=np.array([4,9,2,5])\n",
    "b=np.array([5,7,12,8])\n",
    "s=np.sort((a,b),axis=0)\n",
    "s"
   ]
  },
  {
   "cell_type": "code",
   "execution_count": 59,
   "id": "a458675f-f51f-49d3-91da-a2d95a303636",
   "metadata": {},
   "outputs": [
    {
     "data": {
      "text/plain": [
       "array([[ 2,  4,  5,  9],\n",
       "       [ 5,  7,  8, 12]])"
      ]
     },
     "execution_count": 59,
     "metadata": {},
     "output_type": "execute_result"
    }
   ],
   "source": [
    "import numpy as np\n",
    "a=np.array([4,9,2,5])\n",
    "b=np.array([5,7,12,8])\n",
    "s=np.sort((a,b),axis=1)\n",
    "s"
   ]
  },
  {
   "cell_type": "code",
   "execution_count": 63,
   "id": "238c86de-50bd-435f-a022-c8e399de141e",
   "metadata": {},
   "outputs": [
    {
     "data": {
      "text/plain": [
       "array([[ 4,  9,  2,  5],\n",
       "       [ 5,  7, 12,  8]])"
      ]
     },
     "execution_count": 63,
     "metadata": {},
     "output_type": "execute_result"
    }
   ],
   "source": [
    "import numpy as np\n",
    "a=np.array([4,9,2,5])\n",
    "b=np.array([5,7,12,8])\n",
    "d=np.array([a,b])\n",
    "d.flatten()\n",
    "d"
   ]
  },
  {
   "cell_type": "code",
   "execution_count": 66,
   "id": "9b8ce607-e644-49b3-bcd6-849c2188a7cf",
   "metadata": {},
   "outputs": [
    {
     "data": {
      "text/plain": [
       "array([[ 4,  9,  2,  5],\n",
       "       [ 5,  7, 12,  8]])"
      ]
     },
     "execution_count": 66,
     "metadata": {},
     "output_type": "execute_result"
    }
   ],
   "source": [
    "import numpy as np\n",
    "a=[4,9,2,5]\n",
    "b=[5,7,12,8]\n",
    "d=np.array([a,b])\n",
    "d.flatten(\"F\")\n",
    "d"
   ]
  },
  {
   "cell_type": "code",
   "execution_count": 68,
   "id": "9cf9950d-9c44-4407-9f2e-6a658a6381c2",
   "metadata": {},
   "outputs": [
    {
     "data": {
      "text/plain": [
       "array([[ 4,  9,  2,  5],\n",
       "       [ 5,  7, 12,  8]])"
      ]
     },
     "execution_count": 68,
     "metadata": {},
     "output_type": "execute_result"
    }
   ],
   "source": [
    "import numpy as np\n",
    "a=[4,9,2,5]\n",
    "b=[5,7,12,8]\n",
    "t=np.array([a,b])\n",
    "t.flatten(\"C\")\n",
    "t"
   ]
  },
  {
   "cell_type": "code",
   "execution_count": 1,
   "id": "e18c6418-56db-4c7f-a640-53375972fba3",
   "metadata": {},
   "outputs": [
    {
     "data": {
      "text/plain": [
       "7"
      ]
     },
     "execution_count": 1,
     "metadata": {},
     "output_type": "execute_result"
    }
   ],
   "source": [
    "import numpy as np\n",
    "\n",
    "a=np.array([4,9,2,5])\n",
    "b=a[2]+a[3]\n",
    "b"
   ]
  },
  {
   "cell_type": "code",
   "execution_count": 4,
   "id": "b63648de-398e-41a8-9115-0fb6191f11d8",
   "metadata": {},
   "outputs": [
    {
     "data": {
      "text/plain": [
       "9"
      ]
     },
     "execution_count": 4,
     "metadata": {},
     "output_type": "execute_result"
    }
   ],
   "source": [
    "#accessing 2-D array elements\n",
    "import numpy as np\n",
    "a=np.array([[4,9,2,5],[5,7,12,8]])\n",
    "c=a[0,1]\n",
    "#d=a[1,2]\n",
    "c\n",
    "#d"
   ]
  },
  {
   "cell_type": "code",
   "execution_count": null,
   "id": "f3419773-ce00-432a-b5b2-57ae66578ea0",
   "metadata": {},
   "outputs": [],
   "source": []
  },
  {
   "cell_type": "code",
   "execution_count": null,
   "id": "be2417d6-f943-4618-8df7-95f9f3353c81",
   "metadata": {},
   "outputs": [],
   "source": []
  },
  {
   "cell_type": "code",
   "execution_count": 10,
   "id": "533e4871-25d5-40df-a7d1-14bb11fe4629",
   "metadata": {},
   "outputs": [],
   "source": [
    "#Import the numpy package under the name np (★☆☆)\n",
    "\n",
    "import numpy as np"
   ]
  },
  {
   "cell_type": "code",
   "execution_count": 11,
   "id": "8bb60195-aa35-4ff5-bc59-4afdc5b85b25",
   "metadata": {},
   "outputs": [
    {
     "name": "stdout",
     "output_type": "stream",
     "text": [
      "1.26.4\n",
      "Build Dependencies:\n",
      "  blas:\n",
      "    detection method: pkgconfig\n",
      "    found: true\n",
      "    include directory: C:/sreekar/Library/include\n",
      "    lib directory: C:/sreekar/Library/lib\n",
      "    name: mkl-sdl\n",
      "    openblas configuration: unknown\n",
      "    pc file directory: C:\\b\\abs_c1ywpu18ar\\croot\\numpy_and_numpy_base_1708638681471\\_h_env\\Library\\lib\\pkgconfig\n",
      "    version: '2023.1'\n",
      "  lapack:\n",
      "    detection method: internal\n",
      "    found: true\n",
      "    include directory: unknown\n",
      "    lib directory: unknown\n",
      "    name: dep1868282989520\n",
      "    openblas configuration: unknown\n",
      "    pc file directory: unknown\n",
      "    version: 1.26.4\n",
      "Compilers:\n",
      "  c:\n",
      "    commands: cl.exe\n",
      "    linker: link\n",
      "    name: msvc\n",
      "    version: 19.29.30154\n",
      "  c++:\n",
      "    commands: cl.exe\n",
      "    linker: link\n",
      "    name: msvc\n",
      "    version: 19.29.30154\n",
      "  cython:\n",
      "    commands: cython\n",
      "    linker: cython\n",
      "    name: cython\n",
      "    version: 3.0.8\n",
      "Machine Information:\n",
      "  build:\n",
      "    cpu: x86_64\n",
      "    endian: little\n",
      "    family: x86_64\n",
      "    system: windows\n",
      "  host:\n",
      "    cpu: x86_64\n",
      "    endian: little\n",
      "    family: x86_64\n",
      "    system: windows\n",
      "Python Information:\n",
      "  path: C:\\b\\abs_c1ywpu18ar\\croot\\numpy_and_numpy_base_1708638681471\\_h_env\\python.exe\n",
      "  version: '3.11'\n",
      "SIMD Extensions:\n",
      "  baseline:\n",
      "  - SSE\n",
      "  - SSE2\n",
      "  - SSE3\n",
      "  found:\n",
      "  - SSSE3\n",
      "  - SSE41\n",
      "  - POPCNT\n",
      "  - SSE42\n",
      "  - AVX\n",
      "  - F16C\n",
      "  - FMA3\n",
      "  - AVX2\n",
      "  - AVX512F\n",
      "  - AVX512CD\n",
      "  - AVX512_SKX\n",
      "  - AVX512_CLX\n",
      "  - AVX512_CNL\n",
      "  - AVX512_ICL\n",
      "\n",
      "None\n"
     ]
    }
   ],
   "source": [
    "#2. Print the numpy version and the configuration \n",
    "print(np.__version__)\n",
    "print(np.show_config())"
   ]
  },
  {
   "cell_type": "code",
   "execution_count": null,
   "id": "92619250-30f6-4de9-8d25-cfd375f373c1",
   "metadata": {},
   "outputs": [],
   "source": [
    "#3. Create a null vector of size 10\n",
    "import numpy as np\n",
    "null_vector=np.ones(10)#we mat take anything either ones or zeros or eye etc.but size=10\n",
    "null_vector"
   ]
  },
  {
   "cell_type": "code",
   "execution_count": null,
   "id": "2f7fa520-8b74-4d69-8013-1a83b7465e39",
   "metadata": {},
   "outputs": [],
   "source": [
    "#4. How to find the memory size of any array (★☆☆\n",
    "null_vector.size"
   ]
  },
  {
   "cell_type": "code",
   "execution_count": null,
   "id": "9d70c9fc-f6f3-412e-a4ff-d6c97b4eab62",
   "metadata": {},
   "outputs": [],
   "source": [
    "#\n",
    "5. How to get the documentation of the numpy add function from the command line? (★☆☆\n",
    "                       #\"help\" fun.is a built-in ppythonfun.it provides documention for any obj.\n",
    "help(np.add)                                                           "
   ]
  },
  {
   "cell_type": "code",
   "execution_count": null,
   "id": "d3555708-5c71-4f2d-aff1-4610724302b3",
   "metadata": {},
   "outputs": [],
   "source": [
    "#6. Create a null vector of size 10 but the fifth value which is 1 (★☆☆)\n",
    "import numpy as np\n",
    "null=np.zeros(10)\n",
    "null\n",
    "\n"
   ]
  },
  {
   "cell_type": "code",
   "execution_count": null,
   "id": "7f7bd387-4143-4a58-b3db-8404faf26469",
   "metadata": {},
   "outputs": [],
   "source": [
    "null[4]=1\n",
    "null"
   ]
  },
  {
   "cell_type": "code",
   "execution_count": null,
   "id": "1c1bef7b-ecc7-4079-9239-4ccbd9aca751",
   "metadata": {},
   "outputs": [],
   "source": [
    "#7. Create a vector with values ranging from 10 to 49 (★☆☆\n",
    "r=np.arange(10,50)\n",
    "r"
   ]
  },
  {
   "cell_type": "code",
   "execution_count": null,
   "id": "71e7d7ec-b5b3-4015-9fcd-7e54c65e0a17",
   "metadata": {},
   "outputs": [],
   "source": [
    "#8. Reverse a vector (first element becomes last) (★☆☆)\n",
    "import numpy as np\n",
    "a=np.array([1,2,3,4,5])\n",
    "\"\"\"res=np.flip(a)\n",
    "res\"\"\"\n",
    "#r=a[::-1]\n",
    "#r\n",
    "b=list(a)\n",
    "b.reverse()\n",
    "r=np.array(b)\n",
    "r"
   ]
  },
  {
   "cell_type": "code",
   "execution_count": null,
   "id": "e7b0d050-c016-4cf8-bcde-98ee48e6a4c5",
   "metadata": {},
   "outputs": [],
   "source": [
    "#### 9. Create a 3x3 matrix with values ranging from 0 to 8 (★☆☆)\n",
    "import numpy as np\n",
    "a=np.arange(0,8).reshape(3,3)\n",
    "a\n",
    "\"\"\"a=a.reshape(3,3)\n",
    "a\"\"\""
   ]
  },
  {
   "cell_type": "code",
   "execution_count": null,
   "id": "d75e2e9c-30c9-4b40-b9e6-ceac666fa35e",
   "metadata": {},
   "outputs": [],
   "source": [
    "#10. Find indices of non-zero elements from [1,2,0,0,4,0] (★☆☆)\n",
    "import numpy as np\n",
    "a=np.array([1,2,0,0,4,0])\n",
    "b=list(a)\n",
    "res=[]\n",
    "\"\"\"res=np.nonzero(a)\n",
    "res\"\"\"\n",
    "for i  in b:\n",
    "    if i!=0:\n",
    "        res.append(i)\n",
    "print(res)"
   ]
  },
  {
   "cell_type": "code",
   "execution_count": null,
   "id": "18060175-e696-43cd-b9ca-28db3e99a887",
   "metadata": {},
   "outputs": [],
   "source": [
    "#11. Create a 3x3 identity matrix (★☆☆)\n",
    "import numpy as np\n",
    "a=np.eye(3)\n",
    "a"
   ]
  },
  {
   "cell_type": "code",
   "execution_count": null,
   "id": "9c272ce8-e60b-46ac-8d40-83fd65a254aa",
   "metadata": {},
   "outputs": [],
   "source": [
    "#12. Create a 3x3x3 array with random values (★☆☆)\n",
    "import numpy as np\n",
    "a=np.random.rand(3,3)\n",
    "a"
   ]
  },
  {
   "cell_type": "code",
   "execution_count": null,
   "id": "a7aa5a52-44d1-4cfa-a695-e73242c8ef4d",
   "metadata": {},
   "outputs": [],
   "source": [
    "#13. Create a 10x10 array with random values and find the minimum and maximum values (★☆☆)\n",
    "import numpy as np\n",
    "a=np.random.rand(10,10)\n",
    "a\n",
    "b=a.min()\n",
    "b\n",
    "c=a.max()\n",
    "c"
   ]
  },
  {
   "cell_type": "code",
   "execution_count": null,
   "id": "7c3dd25c-f8c2-432c-aea7-fb323da6ff8d",
   "metadata": {},
   "outputs": [],
   "source": [
    "#14. Create a random vector of size 30 and find the mean value (★☆☆)\n",
    "import numpy as np\n",
    "n=np.random.random(30)\n",
    "m=n.mean()\n",
    "m\n"
   ]
  },
  {
   "cell_type": "code",
   "execution_count": null,
   "id": "f26f4d5e-d4b3-4b09-ba93-952a282406ee",
   "metadata": {},
   "outputs": [],
   "source": [
    "#15. Create a 2d array with 1 on the border and 0 inside (★☆☆\n",
    "import numpy as np\n",
    "a=np.ones((2,2))\n",
    "a[1:-1,1:-1]=0\n",
    "a"
   ]
  },
  {
   "cell_type": "code",
   "execution_count": null,
   "id": "c71a3e2b-d601-48bc-8a89-b793463ac018",
   "metadata": {},
   "outputs": [],
   "source": [
    "#16. How to add a border (filled with 0's) around an existing array? (★☆☆)\n",
    "import numpy as np\n",
    "a=np.ones((4,4))\n",
    "a=np.pad(a,pad_width=1)\n",
    "a"
   ]
  },
  {
   "cell_type": "code",
   "execution_count": null,
   "id": "9aa8a3a9-b2a1-44c5-9edc-c03babce9448",
   "metadata": {},
   "outputs": [],
   "source": [
    "#18. Create a 5x5 matrix with values 1,2,3,4 just below the diagonal (★☆☆)\n",
    "import numpy as np\n",
    "a=np.zeros((5,5))\n",
    "a=np.diag([1,2,3,4])\n",
    "a"
   ]
  },
  {
   "cell_type": "code",
   "execution_count": null,
   "id": "39ab7330-1e21-4ab8-bd2b-22120b19ce07",
   "metadata": {},
   "outputs": [],
   "source": [
    "#\n",
    "19. Create a 8x8 matrix and fill it with a checkerboard pattern (★☆☆)\n",
    "import numpy as np\n",
    "a=np.ones((8,8))\n"
   ]
  },
  {
   "cell_type": "code",
   "execution_count": null,
   "id": "474f0027-85df-4cc2-9e1d-ce988d2bfc11",
   "metadata": {},
   "outputs": [],
   "source": [
    "#20. Consider a (6,7,8) shape array, what is the index (x,y,z) of the 100th element\n",
    "import numpy as np\n",
    "a=np.unravel_index(100-1,(6,7,8))\n",
    "#we can use /\"unravel_index\" to fond the nth element index in matrix\n",
    "a"
   ]
  },
  {
   "cell_type": "code",
   "execution_count": null,
   "id": "c041d6a9-6035-4d4a-aa5d-f3cdfc367999",
   "metadata": {},
   "outputs": [],
   "source": [
    "#21. Create a checkerboard 8x8 matrix using the tile function (★☆☆)\n",
    "import numpy as np\n",
    "a=np.tile((8,8),dtype=int)\n",
    "a"
   ]
  },
  {
   "cell_type": "code",
   "execution_count": null,
   "id": "2b28524e-008a-4c95-bbe4-3f6affb2a6d2",
   "metadata": {},
   "outputs": [],
   "source": [
    "#22. Normalize a 5x5 random matrix (★☆☆)\n",
    "import  numpy as np\n",
    "a=np.random.random((5,5))\n",
    "a=(a-np.mean(a))/np.std(a)\n",
    "a"
   ]
  },
  {
   "cell_type": "code",
   "execution_count": null,
   "id": "58d395dd-6cb7-4c0d-b651-de1dca5ad2da",
   "metadata": {},
   "outputs": [],
   "source": []
  },
  {
   "cell_type": "code",
   "execution_count": null,
   "id": "0438fc3b-a902-4a86-b95d-880bad7d2010",
   "metadata": {},
   "outputs": [],
   "source": [
    "#24. Multiply a 5x3 matrix by a 3x2 matrix (real matrix product) (★☆☆)\n",
    "import numpy as np\n",
    "a=np.ones((5,3),dtype=int)\n",
    "b=np.ones((3,2),dtype=int)\n",
    "#c=a@b\n",
    "c=np.dot(a,b)\n",
    "c"
   ]
  },
  {
   "cell_type": "code",
   "execution_count": null,
   "id": "f368b6b6-fa70-4ecb-b929-09842cdc8402",
   "metadata": {},
   "outputs": [],
   "source": []
  }
 ],
 "metadata": {
  "kernelspec": {
   "display_name": "Python 3 (ipykernel)",
   "language": "python",
   "name": "python3"
  },
  "language_info": {
   "codemirror_mode": {
    "name": "ipython",
    "version": 3
   },
   "file_extension": ".py",
   "mimetype": "text/x-python",
   "name": "python",
   "nbconvert_exporter": "python",
   "pygments_lexer": "ipython3",
   "version": "3.11.7"
  }
 },
 "nbformat": 4,
 "nbformat_minor": 5
}
