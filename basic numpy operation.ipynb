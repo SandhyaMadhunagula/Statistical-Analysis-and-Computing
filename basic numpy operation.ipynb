{
 "cells": [
  {
   "cell_type": "code",
   "execution_count": 8,
   "id": "102b056c",
   "metadata": {},
   "outputs": [
    {
     "data": {
      "text/plain": [
       "array([1, 2, 4])"
      ]
     },
     "execution_count": 8,
     "metadata": {},
     "output_type": "execute_result"
    }
   ],
   "source": [
    "import numpy as np\n",
    "a=np.array([1,2,4])\n",
    "a"
   ]
  },
  {
   "cell_type": "code",
   "execution_count": 9,
   "id": "02155a87",
   "metadata": {},
   "outputs": [
    {
     "data": {
      "text/plain": [
       "(3,)"
      ]
     },
     "execution_count": 9,
     "metadata": {},
     "output_type": "execute_result"
    }
   ],
   "source": [
    "a.shape"
   ]
  },
  {
   "cell_type": "code",
   "execution_count": 10,
   "id": "c3e396e3",
   "metadata": {},
   "outputs": [
    {
     "data": {
      "text/plain": [
       "array([[1, 2, 4],\n",
       "       [3, 5, 6]])"
      ]
     },
     "execution_count": 10,
     "metadata": {},
     "output_type": "execute_result"
    }
   ],
   "source": [
    "import numpy as np\n",
    "a=np.array([[1,2,4],[3,5,6]])\n",
    "a"
   ]
  },
  {
   "cell_type": "code",
   "execution_count": 11,
   "id": "5ad1524c",
   "metadata": {},
   "outputs": [
    {
     "data": {
      "text/plain": [
       "(2, 3)"
      ]
     },
     "execution_count": 11,
     "metadata": {},
     "output_type": "execute_result"
    }
   ],
   "source": [
    "a.shape"
   ]
  },
  {
   "cell_type": "code",
   "execution_count": 3,
   "id": "ebb4284d",
   "metadata": {},
   "outputs": [
    {
     "data": {
      "text/plain": [
       "array([[[1, 2, 4],\n",
       "        [3, 5, 6],\n",
       "        [8, 9, 0]]])"
      ]
     },
     "execution_count": 3,
     "metadata": {},
     "output_type": "execute_result"
    }
   ],
   "source": [
    "import numpy as np\n",
    "a=np.array([[[1,2,4],[3,5,6],[8,9,0]]])\n",
    "a"
   ]
  },
  {
   "cell_type": "code",
   "execution_count": 4,
   "id": "05c13f69",
   "metadata": {},
   "outputs": [
    {
     "data": {
      "text/plain": [
       "array([[[ 2,  4,  8],\n",
       "        [ 6, 10, 12],\n",
       "        [16, 18,  0]]])"
      ]
     },
     "execution_count": 4,
     "metadata": {},
     "output_type": "execute_result"
    }
   ],
   "source": [
    "a*2"
   ]
  },
  {
   "cell_type": "code",
   "execution_count": 5,
   "id": "fcbfb2a6",
   "metadata": {},
   "outputs": [
    {
     "data": {
      "text/plain": [
       "array([[[ 3,  4,  6],\n",
       "        [ 5,  7,  8],\n",
       "        [10, 11,  2]]])"
      ]
     },
     "execution_count": 5,
     "metadata": {},
     "output_type": "execute_result"
    }
   ],
   "source": [
    "a+2"
   ]
  },
  {
   "cell_type": "code",
   "execution_count": 6,
   "id": "9e592f4d",
   "metadata": {},
   "outputs": [
    {
     "data": {
      "text/plain": [
       "(1, 3, 3)"
      ]
     },
     "execution_count": 6,
     "metadata": {},
     "output_type": "execute_result"
    }
   ],
   "source": [
    "a.shape"
   ]
  },
  {
   "cell_type": "code",
   "execution_count": 13,
   "id": "c386a5c6",
   "metadata": {},
   "outputs": [
    {
     "data": {
      "text/plain": [
       "array([1, 3, 5, 7, 9])"
      ]
     },
     "execution_count": 13,
     "metadata": {},
     "output_type": "execute_result"
    }
   ],
   "source": [
    "import numpy as np\n",
    "n=np.arange(1,10,2)\n",
    "n"
   ]
  },
  {
   "cell_type": "code",
   "execution_count": 14,
   "id": "73195dd2",
   "metadata": {},
   "outputs": [
    {
     "data": {
      "text/plain": [
       "array([1, 2, 3, 4, 5, 6, 7, 8, 9])"
      ]
     },
     "execution_count": 14,
     "metadata": {},
     "output_type": "execute_result"
    }
   ],
   "source": [
    "import numpy as np\n",
    "n=np.arange(1,10)\n",
    "n"
   ]
  },
  {
   "cell_type": "code",
   "execution_count": 18,
   "id": "c5a54987",
   "metadata": {},
   "outputs": [
    {
     "data": {
      "text/plain": [
       "array([[1, 2, 4],\n",
       "       [3, 5, 6]])"
      ]
     },
     "execution_count": 18,
     "metadata": {},
     "output_type": "execute_result"
    }
   ],
   "source": [
    "import numpy as np\n",
    "a=np.array([[1,2,4],[3,5,6]])\n",
    "a\n",
    "b=np.array(a)\n",
    "b"
   ]
  },
  {
   "cell_type": "code",
   "execution_count": 21,
   "id": "fa04b8d0",
   "metadata": {},
   "outputs": [
    {
     "data": {
      "text/plain": [
       "array([[1, 2, 4],\n",
       "       [3, 5, 6]])"
      ]
     },
     "execution_count": 21,
     "metadata": {},
     "output_type": "execute_result"
    }
   ],
   "source": [
    "c=a\n",
    "c"
   ]
  },
  {
   "cell_type": "code",
   "execution_count": 20,
   "id": "c5849e76",
   "metadata": {},
   "outputs": [
    {
     "data": {
      "text/plain": [
       "2"
      ]
     },
     "execution_count": 20,
     "metadata": {},
     "output_type": "execute_result"
    }
   ],
   "source": [
    "a.ndim\n"
   ]
  },
  {
   "cell_type": "code",
   "execution_count": 22,
   "id": "1561bae5",
   "metadata": {},
   "outputs": [
    {
     "data": {
      "text/plain": [
       "dtype('int32')"
      ]
     },
     "execution_count": 22,
     "metadata": {},
     "output_type": "execute_result"
    }
   ],
   "source": [
    "a.dtype\n"
   ]
  },
  {
   "cell_type": "code",
   "execution_count": 24,
   "id": "6707cab2",
   "metadata": {},
   "outputs": [
    {
     "data": {
      "text/plain": [
       "array([[0., 0., 0.],\n",
       "       [0., 0., 0.]])"
      ]
     },
     "execution_count": 24,
     "metadata": {},
     "output_type": "execute_result"
    }
   ],
   "source": [
    "np.zeros((2,3))"
   ]
  },
  {
   "cell_type": "code",
   "execution_count": 25,
   "id": "be788df7",
   "metadata": {},
   "outputs": [
    {
     "data": {
      "text/plain": [
       "array([1., 1., 1., 1., 1.])"
      ]
     },
     "execution_count": 25,
     "metadata": {},
     "output_type": "execute_result"
    }
   ],
   "source": [
    "np.ones(5)"
   ]
  },
  {
   "cell_type": "code",
   "execution_count": 32,
   "id": "e1471ce9",
   "metadata": {},
   "outputs": [
    {
     "data": {
      "text/plain": [
       "array([[3.18488605e-011],\n",
       "       [1.93431056e+165]])"
      ]
     },
     "execution_count": 32,
     "metadata": {},
     "output_type": "execute_result"
    }
   ],
   "source": [
    "np.empty((2,1))"
   ]
  },
  {
   "cell_type": "code",
   "execution_count": 38,
   "id": "bc6b0ab7",
   "metadata": {},
   "outputs": [
    {
     "data": {
      "text/plain": [
       "array([[0., 0., 0.],\n",
       "       [0., 0., 0.]])"
      ]
     },
     "execution_count": 38,
     "metadata": {},
     "output_type": "execute_result"
    }
   ],
   "source": [
    "np.empty((2,3))\n"
   ]
  },
  {
   "cell_type": "code",
   "execution_count": 39,
   "id": "31e187d8",
   "metadata": {},
   "outputs": [
    {
     "data": {
      "text/plain": [
       "array([[6.95328962e-310, 1.43659115e-311],\n",
       "       [6.69953016e-321, 1.43659115e-311]])"
      ]
     },
     "execution_count": 39,
     "metadata": {},
     "output_type": "execute_result"
    }
   ],
   "source": [
    "np.empty([2,2])  #The empty creates an array whose initial content is random\n",
    " #and depends on the state of the memory."
   ]
  },
  {
   "cell_type": "code",
   "execution_count": 41,
   "id": "62c5dc16",
   "metadata": {},
   "outputs": [
    {
     "data": {
      "text/plain": [
       "array([-1998362383,  1055193269])"
      ]
     },
     "execution_count": 41,
     "metadata": {},
     "output_type": "execute_result"
    }
   ],
   "source": [
    "np.empty_like((2,3))"
   ]
  },
  {
   "cell_type": "code",
   "execution_count": 50,
   "id": "2f1e16c0",
   "metadata": {},
   "outputs": [
    {
     "data": {
      "text/plain": [
       "array([[1., 2., 4.],\n",
       "       [3., 5., 6.]])"
      ]
     },
     "execution_count": 50,
     "metadata": {},
     "output_type": "execute_result"
    }
   ],
   "source": [
    "import numpy as np\n",
    "a=([1,2,4],[3,5,6])#numpy.asarray()function is used when we want to convert input to an array. Input can be lists, lists of tuples,\n",
    "s=np.asarray(a,dtype=np.float64)  #tuples, tuples of tuples, tuples of lists and arrays.\n",
    "s"
   ]
  },
  {
   "cell_type": "code",
   "execution_count": 69,
   "id": "dc56ee8f",
   "metadata": {},
   "outputs": [
    {
     "data": {
      "text/plain": [
       "array([[2., 3., 4., 5.],\n",
       "       [6., 7., 8., 9.]])"
      ]
     },
     "execution_count": 69,
     "metadata": {},
     "output_type": "execute_result"
    }
   ],
   "source": [
    "import numpy as np\n",
    "a=np.arange(2,10).reshape(2,4).astype(float)\n",
    "a"
   ]
  },
  {
   "cell_type": "code",
   "execution_count": 90,
   "id": "63e46ec3",
   "metadata": {},
   "outputs": [
    {
     "data": {
      "text/plain": [
       "array([[2., 3., 4., 5.],\n",
       "       [6., 7., 8., 9.]])"
      ]
     },
     "execution_count": 90,
     "metadata": {},
     "output_type": "execute_result"
    }
   ],
   "source": [
    "import numpy as np\n",
    "a=np.arange(2,10,dtype=float).reshape(2,4)\n",
    "a"
   ]
  },
  {
   "cell_type": "code",
   "execution_count": 91,
   "id": "c199a0de",
   "metadata": {},
   "outputs": [
    {
     "name": "stdout",
     "output_type": "stream",
     "text": [
      "Help on function ones in module numpy:\n",
      "\n",
      "ones(shape, dtype=None, order='C', *, like=None)\n",
      "    Return a new array of given shape and type, filled with ones.\n",
      "    \n",
      "    Parameters\n",
      "    ----------\n",
      "    shape : int or sequence of ints\n",
      "        Shape of the new array, e.g., ``(2, 3)`` or ``2``.\n",
      "    dtype : data-type, optional\n",
      "        The desired data-type for the array, e.g., `numpy.int8`.  Default is\n",
      "        `numpy.float64`.\n",
      "    order : {'C', 'F'}, optional, default: C\n",
      "        Whether to store multi-dimensional data in row-major\n",
      "        (C-style) or column-major (Fortran-style) order in\n",
      "        memory.\n",
      "    like : array_like, optional\n",
      "        Reference object to allow the creation of arrays which are not\n",
      "        NumPy arrays. If an array-like passed in as ``like`` supports\n",
      "        the ``__array_function__`` protocol, the result will be defined\n",
      "        by it. In this case, it ensures the creation of an array object\n",
      "        compatible with that passed in via this argument.\n",
      "    \n",
      "        .. versionadded:: 1.20.0\n",
      "    \n",
      "    Returns\n",
      "    -------\n",
      "    out : ndarray\n",
      "        Array of ones with the given shape, dtype, and order.\n",
      "    \n",
      "    See Also\n",
      "    --------\n",
      "    ones_like : Return an array of ones with shape and type of input.\n",
      "    empty : Return a new uninitialized array.\n",
      "    zeros : Return a new array setting values to zero.\n",
      "    full : Return a new array of given shape filled with value.\n",
      "    \n",
      "    \n",
      "    Examples\n",
      "    --------\n",
      "    >>> np.ones(5)\n",
      "    array([1., 1., 1., 1., 1.])\n",
      "    \n",
      "    >>> np.ones((5,), dtype=int)\n",
      "    array([1, 1, 1, 1, 1])\n",
      "    \n",
      "    >>> np.ones((2, 1))\n",
      "    array([[1.],\n",
      "           [1.]])\n",
      "    \n",
      "    >>> s = (2,2)\n",
      "    >>> np.ones(s)\n",
      "    array([[1.,  1.],\n",
      "           [1.,  1.]])\n",
      "\n"
     ]
    }
   ],
   "source": [
    "help(np.ones)"
   ]
  },
  {
   "cell_type": "code",
   "execution_count": 92,
   "id": "0bc23657",
   "metadata": {},
   "outputs": [
    {
     "name": "stdout",
     "output_type": "stream",
     "text": [
      "Help on _ArrayFunctionDispatcher in module numpy:\n",
      "\n",
      "ones_like(a, dtype=None, order='K', subok=True, shape=None)\n",
      "    Return an array of ones with the same shape and type as a given array.\n",
      "    \n",
      "    Parameters\n",
      "    ----------\n",
      "    a : array_like\n",
      "        The shape and data-type of `a` define these same attributes of\n",
      "        the returned array.\n",
      "    dtype : data-type, optional\n",
      "        Overrides the data type of the result.\n",
      "    \n",
      "        .. versionadded:: 1.6.0\n",
      "    order : {'C', 'F', 'A', or 'K'}, optional\n",
      "        Overrides the memory layout of the result. 'C' means C-order,\n",
      "        'F' means F-order, 'A' means 'F' if `a` is Fortran contiguous,\n",
      "        'C' otherwise. 'K' means match the layout of `a` as closely\n",
      "        as possible.\n",
      "    \n",
      "        .. versionadded:: 1.6.0\n",
      "    subok : bool, optional.\n",
      "        If True, then the newly created array will use the sub-class\n",
      "        type of `a`, otherwise it will be a base-class array. Defaults\n",
      "        to True.\n",
      "    shape : int or sequence of ints, optional.\n",
      "        Overrides the shape of the result. If order='K' and the number of\n",
      "        dimensions is unchanged, will try to keep order, otherwise,\n",
      "        order='C' is implied.\n",
      "    \n",
      "        .. versionadded:: 1.17.0\n",
      "    \n",
      "    Returns\n",
      "    -------\n",
      "    out : ndarray\n",
      "        Array of ones with the same shape and type as `a`.\n",
      "    \n",
      "    See Also\n",
      "    --------\n",
      "    empty_like : Return an empty array with shape and type of input.\n",
      "    zeros_like : Return an array of zeros with shape and type of input.\n",
      "    full_like : Return a new array with shape of input filled with value.\n",
      "    ones : Return a new array setting values to one.\n",
      "    \n",
      "    Examples\n",
      "    --------\n",
      "    >>> x = np.arange(6)\n",
      "    >>> x = x.reshape((2, 3))\n",
      "    >>> x\n",
      "    array([[0, 1, 2],\n",
      "           [3, 4, 5]])\n",
      "    >>> np.ones_like(x)\n",
      "    array([[1, 1, 1],\n",
      "           [1, 1, 1]])\n",
      "    \n",
      "    >>> y = np.arange(3, dtype=float)\n",
      "    >>> y\n",
      "    array([0., 1., 2.])\n",
      "    >>> np.ones_like(y)\n",
      "    array([1.,  1.,  1.])\n",
      "\n"
     ]
    }
   ],
   "source": [
    "help(np.ones_like)"
   ]
  },
  {
   "cell_type": "code",
   "execution_count": 93,
   "id": "f10b3ff6",
   "metadata": {},
   "outputs": [
    {
     "data": {
      "text/plain": [
       "array([[1., 1., 1.],\n",
       "       [1., 1., 1.]])"
      ]
     },
     "execution_count": 93,
     "metadata": {},
     "output_type": "execute_result"
    }
   ],
   "source": [
    "import numpy as np\n",
    "a=np.ones((2,3))\n",
    "a"
   ]
  },
  {
   "cell_type": "code",
   "execution_count": 94,
   "id": "f3685898",
   "metadata": {},
   "outputs": [
    {
     "data": {
      "text/plain": [
       "array([[1., 1., 1.],\n",
       "       [1., 1., 1.]])"
      ]
     },
     "execution_count": 94,
     "metadata": {},
     "output_type": "execute_result"
    }
   ],
   "source": [
    "b=np.ones_like(a)\n",
    "b"
   ]
  },
  {
   "cell_type": "code",
   "execution_count": 95,
   "id": "7942ba9e",
   "metadata": {},
   "outputs": [
    {
     "data": {
      "text/plain": [
       "array([[0., 0., 0.],\n",
       "       [0., 0., 0.]])"
      ]
     },
     "execution_count": 95,
     "metadata": {},
     "output_type": "execute_result"
    }
   ],
   "source": [
    "import numpy as np\n",
    "a=np.zeros((2,3))\n",
    "a"
   ]
  },
  {
   "cell_type": "code",
   "execution_count": 96,
   "id": "1528eabc",
   "metadata": {},
   "outputs": [
    {
     "data": {
      "text/plain": [
       "array([[0., 0., 0.],\n",
       "       [0., 0., 0.]])"
      ]
     },
     "execution_count": 96,
     "metadata": {},
     "output_type": "execute_result"
    }
   ],
   "source": [
    "b=np.zeros_like(a)  # Instead of taking a shape this function takes an array a\n",
    "b"
   ]
  },
  {
   "cell_type": "code",
   "execution_count": 99,
   "id": "078211d9",
   "metadata": {},
   "outputs": [
    {
     "data": {
      "text/plain": [
       "array([[3., 2., 1.],\n",
       "       [3., 2., 1.]])"
      ]
     },
     "execution_count": 99,
     "metadata": {},
     "output_type": "execute_result"
    }
   ],
   "source": [
    "import numpy as np\n",
    "a=np.full((2,3),(3,2,1),dtype=float)\n",
    "a"
   ]
  },
  {
   "cell_type": "code",
   "execution_count": 109,
   "id": "ff9c82b4",
   "metadata": {},
   "outputs": [
    {
     "data": {
      "text/plain": [
       "array([[5, 6, 9],\n",
       "       [5, 6, 9],\n",
       "       [5, 6, 9]])"
      ]
     },
     "execution_count": 109,
     "metadata": {},
     "output_type": "execute_result"
    }
   ],
   "source": [
    "#full_like() function is used to create an array with the same shape as\n",
    "#an existing array and fill it with a specific value.\n",
    "import numpy as np\n",
    "a=np.arange(2,11,dtype=float).reshape(3,3)\n",
    "a\n",
    "b=np.full_like(a,(5,6,9),dtype=int)\n",
    "b"
   ]
  },
  {
   "cell_type": "code",
   "execution_count": 117,
   "id": "dce4fab0",
   "metadata": {},
   "outputs": [
    {
     "data": {
      "text/plain": [
       "array([[0., 0., 1.],\n",
       "       [0., 0., 0.]])"
      ]
     },
     "execution_count": 117,
     "metadata": {},
     "output_type": "execute_result"
    }
   ],
   "source": [
    "e=np.eye(2,3,k=2)\n",
    "e\n"
   ]
  },
  {
   "cell_type": "code",
   "execution_count": 112,
   "id": "e05bfb8e",
   "metadata": {},
   "outputs": [
    {
     "name": "stdout",
     "output_type": "stream",
     "text": [
      "[[0. 1. 0.]\n",
      " [0. 0. 1.]\n",
      " [0. 0. 0.]]\n"
     ]
    }
   ],
   "source": [
    "import numpy as np\n",
    "\n",
    "# An array with 3 rows with with the ones starting at the index i.e fron the second column\n",
    "myarray = np.eye(3, k=1)\n",
    "\n",
    "print(myarray)"
   ]
  },
  {
   "cell_type": "code",
   "execution_count": 128,
   "id": "aec59883",
   "metadata": {},
   "outputs": [
    {
     "data": {
      "text/plain": [
       "array([[1, 0, 0],\n",
       "       [0, 1, 0],\n",
       "       [0, 0, 1]])"
      ]
     },
     "execution_count": 128,
     "metadata": {},
     "output_type": "execute_result"
    }
   ],
   "source": [
    "#S=\"2\"\n",
    "a=np.identity(3,dtype=int)\n",
    "a"
   ]
  },
  {
   "cell_type": "code",
   "execution_count": null,
   "id": "3630c5aa",
   "metadata": {},
   "outputs": [],
   "source": []
  }
 ],
 "metadata": {
  "kernelspec": {
   "display_name": "Python 3 (ipykernel)",
   "language": "python",
   "name": "python3"
  },
  "language_info": {
   "codemirror_mode": {
    "name": "ipython",
    "version": 3
   },
   "file_extension": ".py",
   "mimetype": "text/x-python",
   "name": "python",
   "nbconvert_exporter": "python",
   "pygments_lexer": "ipython3",
   "version": "3.11.4"
  }
 },
 "nbformat": 4,
 "nbformat_minor": 5
}
